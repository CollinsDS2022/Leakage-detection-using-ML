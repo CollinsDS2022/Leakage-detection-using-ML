{
 "cells": [
  {
   "cell_type": "code",
   "execution_count": 1,
   "id": "04b7461a",
   "metadata": {},
   "outputs": [
    {
     "data": {
      "application/javascript": [
       "\n",
       "            setTimeout(function() {\n",
       "                var nbb_cell_id = 1;\n",
       "                var nbb_unformatted_code = \"%load_ext nb_black\";\n",
       "                var nbb_formatted_code = \"%load_ext nb_black\";\n",
       "                var nbb_cells = Jupyter.notebook.get_cells();\n",
       "                for (var i = 0; i < nbb_cells.length; ++i) {\n",
       "                    if (nbb_cells[i].input_prompt_number == nbb_cell_id) {\n",
       "                        if (nbb_cells[i].get_text() == nbb_unformatted_code) {\n",
       "                             nbb_cells[i].set_text(nbb_formatted_code);\n",
       "                        }\n",
       "                        break;\n",
       "                    }\n",
       "                }\n",
       "            }, 500);\n",
       "            "
      ],
      "text/plain": [
       "<IPython.core.display.Javascript object>"
      ]
     },
     "metadata": {},
     "output_type": "display_data"
    }
   ],
   "source": [
    "%load_ext nb_black"
   ]
  },
  {
   "cell_type": "code",
   "execution_count": 2,
   "id": "a50dca43",
   "metadata": {},
   "outputs": [
    {
     "data": {
      "application/javascript": [
       "\n",
       "            setTimeout(function() {\n",
       "                var nbb_cell_id = 2;\n",
       "                var nbb_unformatted_code = \"# Importing required libraries\\nimport numpy as np\\nimport pandas as pd\\nimport matplotlib as plt\\nimport tensorflow as tf\\nfrom tensorflow.keras import layers\\nimport keras_tuner as kt\\nfrom tensorflow import keras\\n\\n# Importing specific modules from libraries\\nfrom keras_tuner.tuners import RandomSearch\\nfrom keras_tuner.engine.hyperparameters import HyperParameters\\nfrom tensorflow.keras.models import Sequential\\nfrom tensorflow.keras.layers import Dense, Dropout, BatchNormalization\\nfrom tensorflow.keras.callbacks import EarlyStopping\\n\\n# Setting numpy print options to display floating point numbers up to 3 decimal points\\nnp.set_printoptions(precision=3, suppress=True)\";\n",
       "                var nbb_formatted_code = \"# Importing required libraries\\nimport numpy as np\\nimport pandas as pd\\nimport matplotlib as plt\\nimport tensorflow as tf\\nfrom tensorflow.keras import layers\\nimport keras_tuner as kt\\nfrom tensorflow import keras\\n\\n# Importing specific modules from libraries\\nfrom keras_tuner.tuners import RandomSearch\\nfrom keras_tuner.engine.hyperparameters import HyperParameters\\nfrom tensorflow.keras.models import Sequential\\nfrom tensorflow.keras.layers import Dense, Dropout, BatchNormalization\\nfrom tensorflow.keras.callbacks import EarlyStopping\\n\\n# Setting numpy print options to display floating point numbers up to 3 decimal points\\nnp.set_printoptions(precision=3, suppress=True)\";\n",
       "                var nbb_cells = Jupyter.notebook.get_cells();\n",
       "                for (var i = 0; i < nbb_cells.length; ++i) {\n",
       "                    if (nbb_cells[i].input_prompt_number == nbb_cell_id) {\n",
       "                        if (nbb_cells[i].get_text() == nbb_unformatted_code) {\n",
       "                             nbb_cells[i].set_text(nbb_formatted_code);\n",
       "                        }\n",
       "                        break;\n",
       "                    }\n",
       "                }\n",
       "            }, 500);\n",
       "            "
      ],
      "text/plain": [
       "<IPython.core.display.Javascript object>"
      ]
     },
     "metadata": {},
     "output_type": "display_data"
    }
   ],
   "source": [
    "# Importing required libraries\n",
    "import numpy as np\n",
    "import pandas as pd\n",
    "import matplotlib as plt\n",
    "import tensorflow as tf\n",
    "from tensorflow.keras import layers\n",
    "import keras_tuner as kt\n",
    "from tensorflow import keras\n",
    "\n",
    "# Importing specific modules from libraries\n",
    "from keras_tuner.tuners import RandomSearch\n",
    "from keras_tuner.engine.hyperparameters import HyperParameters\n",
    "from tensorflow.keras.models import Sequential\n",
    "from tensorflow.keras.layers import Dense, Dropout, BatchNormalization\n",
    "from tensorflow.keras.callbacks import EarlyStopping\n",
    "\n",
    "# Setting numpy print options to display floating point numbers up to 3 decimal points\n",
    "np.set_printoptions(precision=3, suppress=True)\n"
   ]
  },
  {
   "cell_type": "markdown",
   "id": "7b7226b5",
   "metadata": {},
   "source": [
    "### 1. Load the datasets\n",
    "\n",
    "##### leakage dataset train [m].csv\n",
    "##### leakage dataset validation 1000.csv\n",
    "\n",
    "and store the data as NumPy-Arrays\n",
    "X train, Y train\n",
    "X validation, Y validation."
   ]
  },
  {
   "cell_type": "code",
   "execution_count": 3,
   "id": "3b14f850",
   "metadata": {},
   "outputs": [
    {
     "data": {
      "application/javascript": [
       "\n",
       "            setTimeout(function() {\n",
       "                var nbb_cell_id = 3;\n",
       "                var nbb_unformatted_code = \"# Loading the data from CSV files\\n\\n# Reading the first dataset from a CSV file named \\\"leakage_dataset_train_100.csv\\\" and storing it in a pandas dataframe named df_100\\ndf_100 = pd.read_csv(\\\"Data/leakage_dataset_train_100.csv\\\", header=0)\\n\\n# Reading the second dataset from a CSV file named \\\"leakage_dataset_train_1000.csv\\\" and storing it in a pandas dataframe named df_1000\\ndf_1000 = pd.read_csv(\\\"Data/leakage_dataset_train_1000.csv\\\", header=0)\\n\\n# Reading the validation dataset from a CSV file named \\\"leakage_dataset_validation_1000.csv\\\" and storing it in a pandas dataframe named df_val\\ndf_val = pd.read_csv(\\\"Data/leakage_dataset_validation_1000.csv\\\", header=0)\";\n",
       "                var nbb_formatted_code = \"# Loading the data from CSV files\\n\\n# Reading the first dataset from a CSV file named \\\"leakage_dataset_train_100.csv\\\" and storing it in a pandas dataframe named df_100\\ndf_100 = pd.read_csv(\\\"Data/leakage_dataset_train_100.csv\\\", header=0)\\n\\n# Reading the second dataset from a CSV file named \\\"leakage_dataset_train_1000.csv\\\" and storing it in a pandas dataframe named df_1000\\ndf_1000 = pd.read_csv(\\\"Data/leakage_dataset_train_1000.csv\\\", header=0)\\n\\n# Reading the validation dataset from a CSV file named \\\"leakage_dataset_validation_1000.csv\\\" and storing it in a pandas dataframe named df_val\\ndf_val = pd.read_csv(\\\"Data/leakage_dataset_validation_1000.csv\\\", header=0)\";\n",
       "                var nbb_cells = Jupyter.notebook.get_cells();\n",
       "                for (var i = 0; i < nbb_cells.length; ++i) {\n",
       "                    if (nbb_cells[i].input_prompt_number == nbb_cell_id) {\n",
       "                        if (nbb_cells[i].get_text() == nbb_unformatted_code) {\n",
       "                             nbb_cells[i].set_text(nbb_formatted_code);\n",
       "                        }\n",
       "                        break;\n",
       "                    }\n",
       "                }\n",
       "            }, 500);\n",
       "            "
      ],
      "text/plain": [
       "<IPython.core.display.Javascript object>"
      ]
     },
     "metadata": {},
     "output_type": "display_data"
    }
   ],
   "source": [
    "# Loading the data from CSV files\n",
    "\n",
    "# Reading the first dataset from a CSV file named \"leakage_dataset_train_100.csv\" and storing it in a pandas dataframe named df_100\n",
    "df_100 = pd.read_csv(\"Data/leakage_dataset_train_100.csv\", header=0)\n",
    "\n",
    "# Reading the second dataset from a CSV file named \"leakage_dataset_train_1000.csv\" and storing it in a pandas dataframe named df_1000\n",
    "df_1000 = pd.read_csv(\"Data/leakage_dataset_train_1000.csv\", header=0)\n",
    "\n",
    "# Reading the validation dataset from a CSV file named \"leakage_dataset_validation_1000.csv\" and storing it in a pandas dataframe named df_val\n",
    "df_val = pd.read_csv(\"Data/leakage_dataset_validation_1000.csv\", header=0)\n"
   ]
  },
  {
   "cell_type": "code",
   "execution_count": 4,
   "id": "3f330fd9",
   "metadata": {},
   "outputs": [
    {
     "data": {
      "application/javascript": [
       "\n",
       "            setTimeout(function() {\n",
       "                var nbb_cell_id = 4;\n",
       "                var nbb_unformatted_code = \"# Load the features and label from dataframe and convert it to numpy array\\n\\n# List the columns for the features and label for each dataframe\\nfeature_cols = ['mfc1', 'mfc2', 'mfc3', 'mfc4']\\nlabel_cols = ['y1', 'y2']\\n\\n# Load the 100-row training set and convert the features and label to numpy arrays\\ntrain_100 = df_100[feature_cols + label_cols].to_numpy()\\nX_train_100, y_train_100 = train_100[:, :4], train_100[:, 4:]\\n\\n# Load the 1000-row training set and convert the features and label to numpy arrays\\ntrain_1000 = df_1000[feature_cols + label_cols].to_numpy()\\nX_train_1000, y_train_1000 = train_1000[:, :4], train_1000[:, 4:]\\n\\n# Load the validation set and convert the features and label to numpy arrays\\nval = df_val[feature_cols + label_cols].to_numpy()\\nX_val, y_val = val[:, :4], val[:, 4:]\";\n",
       "                var nbb_formatted_code = \"# Load the features and label from dataframe and convert it to numpy array\\n\\n# List the columns for the features and label for each dataframe\\nfeature_cols = [\\\"mfc1\\\", \\\"mfc2\\\", \\\"mfc3\\\", \\\"mfc4\\\"]\\nlabel_cols = [\\\"y1\\\", \\\"y2\\\"]\\n\\n# Load the 100-row training set and convert the features and label to numpy arrays\\ntrain_100 = df_100[feature_cols + label_cols].to_numpy()\\nX_train_100, y_train_100 = train_100[:, :4], train_100[:, 4:]\\n\\n# Load the 1000-row training set and convert the features and label to numpy arrays\\ntrain_1000 = df_1000[feature_cols + label_cols].to_numpy()\\nX_train_1000, y_train_1000 = train_1000[:, :4], train_1000[:, 4:]\\n\\n# Load the validation set and convert the features and label to numpy arrays\\nval = df_val[feature_cols + label_cols].to_numpy()\\nX_val, y_val = val[:, :4], val[:, 4:]\";\n",
       "                var nbb_cells = Jupyter.notebook.get_cells();\n",
       "                for (var i = 0; i < nbb_cells.length; ++i) {\n",
       "                    if (nbb_cells[i].input_prompt_number == nbb_cell_id) {\n",
       "                        if (nbb_cells[i].get_text() == nbb_unformatted_code) {\n",
       "                             nbb_cells[i].set_text(nbb_formatted_code);\n",
       "                        }\n",
       "                        break;\n",
       "                    }\n",
       "                }\n",
       "            }, 500);\n",
       "            "
      ],
      "text/plain": [
       "<IPython.core.display.Javascript object>"
      ]
     },
     "metadata": {},
     "output_type": "display_data"
    }
   ],
   "source": [
    "# Load the features and label from dataframe and convert it to numpy array\n",
    "\n",
    "# List the columns for the features and label for each dataframe\n",
    "feature_cols = ['mfc1', 'mfc2', 'mfc3', 'mfc4']\n",
    "label_cols = ['y1', 'y2']\n",
    "\n",
    "# Load the 100-row training set and convert the features and label to numpy arrays\n",
    "train_100 = df_100[feature_cols + label_cols].to_numpy()\n",
    "X_train_100, y_train_100 = train_100[:, :4], train_100[:, 4:]\n",
    "\n",
    "# Load the 1000-row training set and convert the features and label to numpy arrays\n",
    "train_1000 = df_1000[feature_cols + label_cols].to_numpy()\n",
    "X_train_1000, y_train_1000 = train_1000[:, :4], train_1000[:, 4:]\n",
    "\n",
    "# Load the validation set and convert the features and label to numpy arrays\n",
    "val = df_val[feature_cols + label_cols].to_numpy()\n",
    "X_val, y_val = val[:, :4], val[:, 4:]\n"
   ]
  },
  {
   "cell_type": "code",
   "execution_count": 5,
   "id": "6be9b172",
   "metadata": {},
   "outputs": [
    {
     "data": {
      "application/javascript": [
       "\n",
       "            setTimeout(function() {\n",
       "                var nbb_cell_id = 5;\n",
       "                var nbb_unformatted_code = \"# # Calculate the mean and standard deviation of x1, x2, and x3 in the training data\\n# x1_mean = np.mean(X_train_1000[:, 0])\\n# x2_mean = np.mean(X_train_1000[:, 1])\\n# x3_mean = np.mean(X_train_1000[:, 2])\\n# x4_mean = np.mean(X_train_1000[:, 3])\\n\\n# x1_std = np.std(X_train_1000[:, 0])\\n# x2_std = np.std(X_train_1000[:, 1])\\n# x3_std = np.std(X_train_1000[:, 2])\\n# x4_std = np.std(X_train_1000[:, 3])\";\n",
       "                var nbb_formatted_code = \"# # Calculate the mean and standard deviation of x1, x2, and x3 in the training data\\n# x1_mean = np.mean(X_train_1000[:, 0])\\n# x2_mean = np.mean(X_train_1000[:, 1])\\n# x3_mean = np.mean(X_train_1000[:, 2])\\n# x4_mean = np.mean(X_train_1000[:, 3])\\n\\n# x1_std = np.std(X_train_1000[:, 0])\\n# x2_std = np.std(X_train_1000[:, 1])\\n# x3_std = np.std(X_train_1000[:, 2])\\n# x4_std = np.std(X_train_1000[:, 3])\";\n",
       "                var nbb_cells = Jupyter.notebook.get_cells();\n",
       "                for (var i = 0; i < nbb_cells.length; ++i) {\n",
       "                    if (nbb_cells[i].input_prompt_number == nbb_cell_id) {\n",
       "                        if (nbb_cells[i].get_text() == nbb_unformatted_code) {\n",
       "                             nbb_cells[i].set_text(nbb_formatted_code);\n",
       "                        }\n",
       "                        break;\n",
       "                    }\n",
       "                }\n",
       "            }, 500);\n",
       "            "
      ],
      "text/plain": [
       "<IPython.core.display.Javascript object>"
      ]
     },
     "metadata": {},
     "output_type": "display_data"
    }
   ],
   "source": [
    "# # Calculate the mean and standard deviation of x1, x2, and x3 in the training data\n",
    "# x1_mean = np.mean(X_train_1000[:, 0])\n",
    "# x2_mean = np.mean(X_train_1000[:, 1])\n",
    "# x3_mean = np.mean(X_train_1000[:, 2])\n",
    "# x4_mean = np.mean(X_train_1000[:, 3])\n",
    "\n",
    "# x1_std = np.std(X_train_1000[:, 0])\n",
    "# x2_std = np.std(X_train_1000[:, 1])\n",
    "# x3_std = np.std(X_train_1000[:, 2])\n",
    "# x4_std = np.std(X_train_1000[:, 3])"
   ]
  },
  {
   "cell_type": "code",
   "execution_count": 6,
   "id": "b405b28b",
   "metadata": {},
   "outputs": [
    {
     "data": {
      "application/javascript": [
       "\n",
       "            setTimeout(function() {\n",
       "                var nbb_cell_id = 6;\n",
       "                var nbb_unformatted_code = \"# # Subtract the mean from x1, x2, and x3 in both the training and validation/test data\\n# X_train_1000[:, 0] = (X_train_1000[:, 0] - x1_mean) / x1_std\\n# X_train_1000[:, 1] = (X_train_1000[:, 1] - x2_mean) / x2_std\\n# X_train_1000[:, 2] = (X_train_1000[:, 2] - x3_mean) / x3_std\\n# X_train_1000[:, 3] = (X_train_1000[:, 3] - x4_mean) / x4_std\\n\\n# X_train_100[:, 0] = (X_train_100[:, 0] - x1_mean) / x1_std\\n# X_train_100[:, 1] = (X_train_100[:, 1] - x2_mean) / x2_std\\n# X_train_100[:, 2] = (X_train_100[:, 2] - x3_mean) / x3_std\\n# X_train_100[:, 3] = (X_train_100[:, 3] - x4_mean) / x4_std\\n\\n# X_val[:, 0] = (X_val[:, 0] - x1_mean) / x1_std\\n# X_val[:, 1] = (X_val[:, 1] - x2_mean) / x2_std\\n# X_val[:, 2] = (X_val[:, 2] - x3_mean) / x3_std\\n# X_val[:, 3] = (X_val[:, 3] - x4_mean) / x4_std\";\n",
       "                var nbb_formatted_code = \"# # Subtract the mean from x1, x2, and x3 in both the training and validation/test data\\n# X_train_1000[:, 0] = (X_train_1000[:, 0] - x1_mean) / x1_std\\n# X_train_1000[:, 1] = (X_train_1000[:, 1] - x2_mean) / x2_std\\n# X_train_1000[:, 2] = (X_train_1000[:, 2] - x3_mean) / x3_std\\n# X_train_1000[:, 3] = (X_train_1000[:, 3] - x4_mean) / x4_std\\n\\n# X_train_100[:, 0] = (X_train_100[:, 0] - x1_mean) / x1_std\\n# X_train_100[:, 1] = (X_train_100[:, 1] - x2_mean) / x2_std\\n# X_train_100[:, 2] = (X_train_100[:, 2] - x3_mean) / x3_std\\n# X_train_100[:, 3] = (X_train_100[:, 3] - x4_mean) / x4_std\\n\\n# X_val[:, 0] = (X_val[:, 0] - x1_mean) / x1_std\\n# X_val[:, 1] = (X_val[:, 1] - x2_mean) / x2_std\\n# X_val[:, 2] = (X_val[:, 2] - x3_mean) / x3_std\\n# X_val[:, 3] = (X_val[:, 3] - x4_mean) / x4_std\";\n",
       "                var nbb_cells = Jupyter.notebook.get_cells();\n",
       "                for (var i = 0; i < nbb_cells.length; ++i) {\n",
       "                    if (nbb_cells[i].input_prompt_number == nbb_cell_id) {\n",
       "                        if (nbb_cells[i].get_text() == nbb_unformatted_code) {\n",
       "                             nbb_cells[i].set_text(nbb_formatted_code);\n",
       "                        }\n",
       "                        break;\n",
       "                    }\n",
       "                }\n",
       "            }, 500);\n",
       "            "
      ],
      "text/plain": [
       "<IPython.core.display.Javascript object>"
      ]
     },
     "metadata": {},
     "output_type": "display_data"
    }
   ],
   "source": [
    "# # Subtract the mean from x1, x2, and x3 in both the training and validation/test data\n",
    "# X_train_1000[:, 0] = (X_train_1000[:, 0] - x1_mean) / x1_std\n",
    "# X_train_1000[:, 1] = (X_train_1000[:, 1] - x2_mean) / x2_std\n",
    "# X_train_1000[:, 2] = (X_train_1000[:, 2] - x3_mean) / x3_std\n",
    "# X_train_1000[:, 3] = (X_train_1000[:, 3] - x4_mean) / x4_std\n",
    "\n",
    "# X_train_100[:, 0] = (X_train_100[:, 0] - x1_mean) / x1_std\n",
    "# X_train_100[:, 1] = (X_train_100[:, 1] - x2_mean) / x2_std\n",
    "# X_train_100[:, 2] = (X_train_100[:, 2] - x3_mean) / x3_std\n",
    "# X_train_100[:, 3] = (X_train_100[:, 3] - x4_mean) / x4_std\n",
    "\n",
    "# X_val[:, 0] = (X_val[:, 0] - x1_mean) / x1_std\n",
    "# X_val[:, 1] = (X_val[:, 1] - x2_mean) / x2_std\n",
    "# X_val[:, 2] = (X_val[:, 2] - x3_mean) / x3_std\n",
    "# X_val[:, 3] = (X_val[:, 3] - x4_mean) / x4_std"
   ]
  },
  {
   "cell_type": "code",
   "execution_count": 7,
   "id": "296fcca5",
   "metadata": {},
   "outputs": [
    {
     "data": {
      "application/javascript": [
       "\n",
       "            setTimeout(function() {\n",
       "                var nbb_cell_id = 7;\n",
       "                var nbb_unformatted_code = \"# # Calculate the mean and standard deviation of x1, x2, and x3 in the training data\\n# x_mean = np.mean(X_train_1000, axis=0)\\n# x_std = np.std(X_train_1000, axis=0)\\n\\n# # Standardize the data\\n# X_train_1000 = (X_train_1000 - x_mean) / x_std\\n# X_train_100 = (X_train_100 - x_mean) / x_std\\n# X_val = (X_val - x_mean) / x_std\\n\\n# # Normalize the data\\n# X_train_1000 = X_train_1000 / np.sum(X_train_1000, axis=1)[:, np.newaxis]\\n# X_train_100 = X_train_100 / np.sum(X_train_100, axis=1)[:, np.newaxis]\\n# X_val = X_val / np.sum(X_val, axis=1)[:, np.newaxis]\";\n",
       "                var nbb_formatted_code = \"# # Calculate the mean and standard deviation of x1, x2, and x3 in the training data\\n# x_mean = np.mean(X_train_1000, axis=0)\\n# x_std = np.std(X_train_1000, axis=0)\\n\\n# # Standardize the data\\n# X_train_1000 = (X_train_1000 - x_mean) / x_std\\n# X_train_100 = (X_train_100 - x_mean) / x_std\\n# X_val = (X_val - x_mean) / x_std\\n\\n# # Normalize the data\\n# X_train_1000 = X_train_1000 / np.sum(X_train_1000, axis=1)[:, np.newaxis]\\n# X_train_100 = X_train_100 / np.sum(X_train_100, axis=1)[:, np.newaxis]\\n# X_val = X_val / np.sum(X_val, axis=1)[:, np.newaxis]\";\n",
       "                var nbb_cells = Jupyter.notebook.get_cells();\n",
       "                for (var i = 0; i < nbb_cells.length; ++i) {\n",
       "                    if (nbb_cells[i].input_prompt_number == nbb_cell_id) {\n",
       "                        if (nbb_cells[i].get_text() == nbb_unformatted_code) {\n",
       "                             nbb_cells[i].set_text(nbb_formatted_code);\n",
       "                        }\n",
       "                        break;\n",
       "                    }\n",
       "                }\n",
       "            }, 500);\n",
       "            "
      ],
      "text/plain": [
       "<IPython.core.display.Javascript object>"
      ]
     },
     "metadata": {},
     "output_type": "display_data"
    }
   ],
   "source": [
    "# # Calculate the mean and standard deviation of x1, x2, and x3 in the training data\n",
    "# x_mean = np.mean(X_train_1000, axis=0)\n",
    "# x_std = np.std(X_train_1000, axis=0)\n",
    "\n",
    "# # Standardize the data\n",
    "# X_train_1000 = (X_train_1000 - x_mean) / x_std\n",
    "# X_train_100 = (X_train_100 - x_mean) / x_std\n",
    "# X_val = (X_val - x_mean) / x_std\n",
    "\n",
    "# # Normalize the data\n",
    "# X_train_1000 = X_train_1000 / np.sum(X_train_1000, axis=1)[:, np.newaxis]\n",
    "# X_train_100 = X_train_100 / np.sum(X_train_100, axis=1)[:, np.newaxis]\n",
    "# X_val = X_val / np.sum(X_val, axis=1)[:, np.newaxis]"
   ]
  },
  {
   "cell_type": "markdown",
   "id": "8de1e288",
   "metadata": {},
   "source": [
    "For that purpose, you have training data (xi, yi)\n",
    "mi=1 available. Unfortunately,\n",
    "the fourth sensor MFC4 had a slight malfunction at the time when the training data were produced. As a consequence, the values x4 are on average\n",
    "higher than their counterparts x1, x2 and x3. Be aware that the same effect\n",
    "is not present in the validation and test data."
   ]
  },
  {
   "cell_type": "code",
   "execution_count": 8,
   "id": "e9f78d35",
   "metadata": {},
   "outputs": [
    {
     "data": {
      "application/javascript": [
       "\n",
       "            setTimeout(function() {\n",
       "                var nbb_cell_id = 8;\n",
       "                var nbb_unformatted_code = \"# Preprocess the training data to account for the issue with the fourth sensor MFC4\\nX_train_100[:, 3] = X_train_100[:, 3] * (\\n    np.mean(X_train_100[:, :3], axis=1) / np.mean(X_train_100[:, 3])\\n)\\nX_train_1000[:, 3] = X_train_1000[:, 3] * (\\n    np.mean(X_train_1000[:, :3], axis=1) / np.mean(X_train_1000[:, 3])\\n)\";\n",
       "                var nbb_formatted_code = \"# Preprocess the training data to account for the issue with the fourth sensor MFC4\\nX_train_100[:, 3] = X_train_100[:, 3] * (\\n    np.mean(X_train_100[:, :3], axis=1) / np.mean(X_train_100[:, 3])\\n)\\nX_train_1000[:, 3] = X_train_1000[:, 3] * (\\n    np.mean(X_train_1000[:, :3], axis=1) / np.mean(X_train_1000[:, 3])\\n)\";\n",
       "                var nbb_cells = Jupyter.notebook.get_cells();\n",
       "                for (var i = 0; i < nbb_cells.length; ++i) {\n",
       "                    if (nbb_cells[i].input_prompt_number == nbb_cell_id) {\n",
       "                        if (nbb_cells[i].get_text() == nbb_unformatted_code) {\n",
       "                             nbb_cells[i].set_text(nbb_formatted_code);\n",
       "                        }\n",
       "                        break;\n",
       "                    }\n",
       "                }\n",
       "            }, 500);\n",
       "            "
      ],
      "text/plain": [
       "<IPython.core.display.Javascript object>"
      ]
     },
     "metadata": {},
     "output_type": "display_data"
    }
   ],
   "source": [
    "# Preprocess the training data to account for the issue with the fourth sensor MFC4\n",
    "X_train_100[:, 3] = X_train_100[:, 3] * (\n",
    "    np.mean(X_train_100[:, :3], axis=1) / np.mean(X_train_100[:, 3])\n",
    ")\n",
    "X_train_1000[:, 3] = X_train_1000[:, 3] * (\n",
    "    np.mean(X_train_1000[:, :3], axis=1) / np.mean(X_train_1000[:, 3])\n",
    ")"
   ]
  },
  {
   "cell_type": "markdown",
   "id": "46966ffc",
   "metadata": {},
   "source": [
    "### 2. Train a standard fully connected neural network. Hyperparameters\n",
    "\n",
    "like number of epochs, batch size, optimizer, learning rate, depth and\n",
    "width of the network, activation and loss functions – all up to you. You\n",
    "can use a framework like KerasTuner to optimize hyperparameters, or\n",
    "simple for-loops if you prefer that. Anyway, you should use the validation data in order to evaluate and compare candidate hyperparameter\n",
    "configurations. Save the model as model standard [m].h5."
   ]
  },
  {
   "cell_type": "code",
   "execution_count": 9,
   "id": "fb3ad698",
   "metadata": {},
   "outputs": [
    {
     "data": {
      "application/javascript": [
       "\n",
       "            setTimeout(function() {\n",
       "                var nbb_cell_id = 9;\n",
       "                var nbb_unformatted_code = \"def standard_model(hp):\\n    model = Sequential()\\n    model.add(\\n        Dense(\\n            units=hp.Int(\\\"units_1\\\", min_value=32, max_value=512, step=32),\\n            input_shape=(4,),\\n            activation=hp.Choice(\\\"activation_1\\\", values=[\\\"relu\\\", \\\"tanh\\\", \\\"sigmoid\\\"]),\\n        )\\n    )\\n\\n    model.add(\\n        Dense(\\n            units=hp.Int(f\\\"units_2\\\", min_value=16, max_value=128, step=16),\\n            activation=hp.Choice(\\n                f\\\"activation_2\\\",\\n                values=[\\\"relu\\\", \\\"tanh\\\", \\\"sigmoid\\\"],\\n            ),\\n        )\\n    )\\n\\n    model.add(Dense(2, activation=\\\"softmax\\\"))\\n\\n    # Set optimizer and learning rate\\n    optimizer = hp.Choice(\\\"optimizer\\\", values=[\\\"adam\\\", \\\"adagrad\\\", \\\"nadam\\\", \\\"rmsprop\\\"])\\n    learning_rate = hp.Choice(\\\"learning_rate\\\", values=[1e-1, 1e-2, 1e-3, 1e-4])\\n\\n    if optimizer == \\\"adam\\\":\\n        optimizer = keras.optimizers.Adam(learning_rate=learning_rate)\\n    elif optimizer == \\\"adagrad\\\":\\n        optimizer = keras.optimizers.Adagrad(learning_rate=learning_rate)\\n    elif optimizer == \\\"rmsprop\\\":\\n        optimizer = keras.optimizers.RMSprop(learning_rate=learning_rate)\\n    else:\\n        optimizer = keras.optimizers.Nadam(learning_rate=learning_rate)\\n\\n    model.compile(\\n        optimizer=optimizer,\\n        loss=\\\"mean_squared_error\\\",\\n        metrics=[\\\"mean_absolute_error\\\"],\\n    )\\n\\n    return model\";\n",
       "                var nbb_formatted_code = \"def standard_model(hp):\\n    model = Sequential()\\n    model.add(\\n        Dense(\\n            units=hp.Int(\\\"units_1\\\", min_value=32, max_value=512, step=32),\\n            input_shape=(4,),\\n            activation=hp.Choice(\\\"activation_1\\\", values=[\\\"relu\\\", \\\"tanh\\\", \\\"sigmoid\\\"]),\\n        )\\n    )\\n\\n    model.add(\\n        Dense(\\n            units=hp.Int(f\\\"units_2\\\", min_value=16, max_value=128, step=16),\\n            activation=hp.Choice(\\n                f\\\"activation_2\\\",\\n                values=[\\\"relu\\\", \\\"tanh\\\", \\\"sigmoid\\\"],\\n            ),\\n        )\\n    )\\n\\n    model.add(Dense(2, activation=\\\"softmax\\\"))\\n\\n    # Set optimizer and learning rate\\n    optimizer = hp.Choice(\\\"optimizer\\\", values=[\\\"adam\\\", \\\"adagrad\\\", \\\"nadam\\\", \\\"rmsprop\\\"])\\n    learning_rate = hp.Choice(\\\"learning_rate\\\", values=[1e-1, 1e-2, 1e-3, 1e-4])\\n\\n    if optimizer == \\\"adam\\\":\\n        optimizer = keras.optimizers.Adam(learning_rate=learning_rate)\\n    elif optimizer == \\\"adagrad\\\":\\n        optimizer = keras.optimizers.Adagrad(learning_rate=learning_rate)\\n    elif optimizer == \\\"rmsprop\\\":\\n        optimizer = keras.optimizers.RMSprop(learning_rate=learning_rate)\\n    else:\\n        optimizer = keras.optimizers.Nadam(learning_rate=learning_rate)\\n\\n    model.compile(\\n        optimizer=optimizer,\\n        loss=\\\"mean_squared_error\\\",\\n        metrics=[\\\"mean_absolute_error\\\"],\\n    )\\n\\n    return model\";\n",
       "                var nbb_cells = Jupyter.notebook.get_cells();\n",
       "                for (var i = 0; i < nbb_cells.length; ++i) {\n",
       "                    if (nbb_cells[i].input_prompt_number == nbb_cell_id) {\n",
       "                        if (nbb_cells[i].get_text() == nbb_unformatted_code) {\n",
       "                             nbb_cells[i].set_text(nbb_formatted_code);\n",
       "                        }\n",
       "                        break;\n",
       "                    }\n",
       "                }\n",
       "            }, 500);\n",
       "            "
      ],
      "text/plain": [
       "<IPython.core.display.Javascript object>"
      ]
     },
     "metadata": {},
     "output_type": "display_data"
    }
   ],
   "source": [
    "def standard_model(hp):\n",
    "    model = Sequential()\n",
    "    model.add(\n",
    "        Dense(\n",
    "            units=hp.Int(\"units_1\", min_value=32, max_value=512, step=32),\n",
    "            input_shape=(4,),\n",
    "            activation=hp.Choice(\"activation_1\", values=[\"relu\", \"tanh\", \"sigmoid\"]),\n",
    "        )\n",
    "    )\n",
    "\n",
    "    model.add(\n",
    "        Dense(\n",
    "            units=hp.Int(f\"units_2\", min_value=16, max_value=128, step=16),\n",
    "            activation=hp.Choice(\n",
    "                f\"activation_2\",\n",
    "                values=[\"relu\", \"tanh\", \"sigmoid\"],\n",
    "            ),\n",
    "        )\n",
    "    )\n",
    "\n",
    "    model.add(Dense(2, activation=\"softmax\"))\n",
    "\n",
    "    # Set optimizer and learning rate\n",
    "    optimizer = hp.Choice(\"optimizer\", values=[\"adam\", \"adagrad\", \"nadam\", \"rmsprop\"])\n",
    "    learning_rate = hp.Choice(\"learning_rate\", values=[1e-1, 1e-2, 1e-3, 1e-4])\n",
    "\n",
    "    if optimizer == \"adam\":\n",
    "        optimizer = keras.optimizers.Adam(learning_rate=learning_rate)\n",
    "    elif optimizer == \"adagrad\":\n",
    "        optimizer = keras.optimizers.Adagrad(learning_rate=learning_rate)\n",
    "    elif optimizer == \"rmsprop\":\n",
    "        optimizer = keras.optimizers.RMSprop(learning_rate=learning_rate)\n",
    "    else:\n",
    "        optimizer = keras.optimizers.Nadam(learning_rate=learning_rate)\n",
    "\n",
    "    model.compile(\n",
    "        optimizer=optimizer,\n",
    "        loss=\"mean_squared_error\",\n",
    "        metrics=[\"mean_absolute_error\"],\n",
    "    )\n",
    "\n",
    "    return model"
   ]
  },
  {
   "cell_type": "code",
   "execution_count": 10,
   "id": "6e4a1432",
   "metadata": {},
   "outputs": [
    {
     "data": {
      "application/javascript": [
       "\n",
       "            setTimeout(function() {\n",
       "                var nbb_cell_id = 10;\n",
       "                var nbb_unformatted_code = \"# def with_all_standard_model(hp):\\n#     model = Sequential()\\n#     model.add(\\n#         Dense(\\n#             units=hp.Int(\\\"units_1\\\", min_value=32, max_value=512, step=32),\\n#             input_shape=(4,),\\n#             activation=hp.Choice(\\\"activation_1\\\", values=[\\\"relu\\\", \\\"tanh\\\", \\\"sigmoid\\\"]),\\n#         )\\n#     )\\n\\n#     model.add(Dropout(hp.Float(\\\"dropout_1\\\", min_value=0.2, max_value=0.5, step=0.1)))\\n#     model.add(BatchNormalization())\\n\\n#     model.add(\\n#         Dense(\\n#             units=hp.Int(f\\\"units_2\\\", min_value=16, max_value=128, step=16),\\n#             activation=hp.Choice(\\n#                 f\\\"activation_2\\\",\\n#                 values=[\\\"relu\\\", \\\"tanh\\\", \\\"sigmoid\\\"],\\n#             ),\\n#         )\\n#     )\\n\\n#     model.add(Dropout(hp.Float(f\\\"dropout_2\\\", min_value=0.2, max_value=0.5, step=0.1)))\\n#     model.add(BatchNormalization())\\n\\n#     model.add(Dense(2, activation=\\\"softmax\\\"))\\n\\n#     # Set optimizer and learning rate\\n#     optimizer = hp.Choice(\\\"optimizer\\\", values=[\\\"adam\\\", \\\"adagrad\\\", \\\"nadam\\\", \\\"rmsprop\\\"])\\n#     learning_rate = hp.Choice(\\\"learning_rate\\\", values=[1e-1, 1e-2, 1e-3, 1e-4])\\n\\n#     if optimizer == \\\"adam\\\":\\n#         optimizer = keras.optimizers.Adam(learning_rate=learning_rate)\\n#     elif optimizer == \\\"adagrad\\\":\\n#         optimizer = keras.optimizers.Adagrad(learning_rate=learning_rate)\\n#     elif optimizer == \\\"rmsprop\\\":\\n#         optimizer = keras.optimizers.RMSprop(learning_rate=learning_rate)\\n#     else:\\n#         optimizer = keras.optimizers.Nadam(learning_rate=learning_rate)\\n\\n#     model.compile(\\n#         optimizer=optimizer,\\n#         loss=\\\"mean_squared_error\\\",\\n#         metrics=[\\\"mean_absolute_error\\\"],\\n#     )\\n\\n#     # Add regularization\\n#     if hp.Boolean(\\\"use_regularization\\\"):\\n#         l1_reg = hp.Float(\\\"l1_reg\\\", min_value=1e-6, max_value=1e-2, sampling=\\\"log\\\")\\n#         l2_reg = hp.Float(\\\"l2_reg\\\", min_value=1e-6, max_value=1e-2, sampling=\\\"log\\\")\\n#         model.add(keras.layers.ActivityRegularization(l1=l1_reg, l2=l2_reg))\\n\\n#     return model\";\n",
       "                var nbb_formatted_code = \"# def with_all_standard_model(hp):\\n#     model = Sequential()\\n#     model.add(\\n#         Dense(\\n#             units=hp.Int(\\\"units_1\\\", min_value=32, max_value=512, step=32),\\n#             input_shape=(4,),\\n#             activation=hp.Choice(\\\"activation_1\\\", values=[\\\"relu\\\", \\\"tanh\\\", \\\"sigmoid\\\"]),\\n#         )\\n#     )\\n\\n#     model.add(Dropout(hp.Float(\\\"dropout_1\\\", min_value=0.2, max_value=0.5, step=0.1)))\\n#     model.add(BatchNormalization())\\n\\n#     model.add(\\n#         Dense(\\n#             units=hp.Int(f\\\"units_2\\\", min_value=16, max_value=128, step=16),\\n#             activation=hp.Choice(\\n#                 f\\\"activation_2\\\",\\n#                 values=[\\\"relu\\\", \\\"tanh\\\", \\\"sigmoid\\\"],\\n#             ),\\n#         )\\n#     )\\n\\n#     model.add(Dropout(hp.Float(f\\\"dropout_2\\\", min_value=0.2, max_value=0.5, step=0.1)))\\n#     model.add(BatchNormalization())\\n\\n#     model.add(Dense(2, activation=\\\"softmax\\\"))\\n\\n#     # Set optimizer and learning rate\\n#     optimizer = hp.Choice(\\\"optimizer\\\", values=[\\\"adam\\\", \\\"adagrad\\\", \\\"nadam\\\", \\\"rmsprop\\\"])\\n#     learning_rate = hp.Choice(\\\"learning_rate\\\", values=[1e-1, 1e-2, 1e-3, 1e-4])\\n\\n#     if optimizer == \\\"adam\\\":\\n#         optimizer = keras.optimizers.Adam(learning_rate=learning_rate)\\n#     elif optimizer == \\\"adagrad\\\":\\n#         optimizer = keras.optimizers.Adagrad(learning_rate=learning_rate)\\n#     elif optimizer == \\\"rmsprop\\\":\\n#         optimizer = keras.optimizers.RMSprop(learning_rate=learning_rate)\\n#     else:\\n#         optimizer = keras.optimizers.Nadam(learning_rate=learning_rate)\\n\\n#     model.compile(\\n#         optimizer=optimizer,\\n#         loss=\\\"mean_squared_error\\\",\\n#         metrics=[\\\"mean_absolute_error\\\"],\\n#     )\\n\\n#     # Add regularization\\n#     if hp.Boolean(\\\"use_regularization\\\"):\\n#         l1_reg = hp.Float(\\\"l1_reg\\\", min_value=1e-6, max_value=1e-2, sampling=\\\"log\\\")\\n#         l2_reg = hp.Float(\\\"l2_reg\\\", min_value=1e-6, max_value=1e-2, sampling=\\\"log\\\")\\n#         model.add(keras.layers.ActivityRegularization(l1=l1_reg, l2=l2_reg))\\n\\n#     return model\";\n",
       "                var nbb_cells = Jupyter.notebook.get_cells();\n",
       "                for (var i = 0; i < nbb_cells.length; ++i) {\n",
       "                    if (nbb_cells[i].input_prompt_number == nbb_cell_id) {\n",
       "                        if (nbb_cells[i].get_text() == nbb_unformatted_code) {\n",
       "                             nbb_cells[i].set_text(nbb_formatted_code);\n",
       "                        }\n",
       "                        break;\n",
       "                    }\n",
       "                }\n",
       "            }, 500);\n",
       "            "
      ],
      "text/plain": [
       "<IPython.core.display.Javascript object>"
      ]
     },
     "metadata": {},
     "output_type": "display_data"
    }
   ],
   "source": [
    "# def with_all_standard_model(hp):\n",
    "#     model = Sequential()\n",
    "#     model.add(\n",
    "#         Dense(\n",
    "#             units=hp.Int(\"units_1\", min_value=32, max_value=512, step=32),\n",
    "#             input_shape=(4,),\n",
    "#             activation=hp.Choice(\"activation_1\", values=[\"relu\", \"tanh\", \"sigmoid\"]),\n",
    "#         )\n",
    "#     )\n",
    "\n",
    "#     model.add(Dropout(hp.Float(\"dropout_1\", min_value=0.2, max_value=0.5, step=0.1)))\n",
    "#     model.add(BatchNormalization())\n",
    "\n",
    "#     model.add(\n",
    "#         Dense(\n",
    "#             units=hp.Int(f\"units_2\", min_value=16, max_value=128, step=16),\n",
    "#             activation=hp.Choice(\n",
    "#                 f\"activation_2\",\n",
    "#                 values=[\"relu\", \"tanh\", \"sigmoid\"],\n",
    "#             ),\n",
    "#         )\n",
    "#     )\n",
    "\n",
    "#     model.add(Dropout(hp.Float(f\"dropout_2\", min_value=0.2, max_value=0.5, step=0.1)))\n",
    "#     model.add(BatchNormalization())\n",
    "\n",
    "#     model.add(Dense(2, activation=\"softmax\"))\n",
    "\n",
    "#     # Set optimizer and learning rate\n",
    "#     optimizer = hp.Choice(\"optimizer\", values=[\"adam\", \"adagrad\", \"nadam\", \"rmsprop\"])\n",
    "#     learning_rate = hp.Choice(\"learning_rate\", values=[1e-1, 1e-2, 1e-3, 1e-4])\n",
    "\n",
    "#     if optimizer == \"adam\":\n",
    "#         optimizer = keras.optimizers.Adam(learning_rate=learning_rate)\n",
    "#     elif optimizer == \"adagrad\":\n",
    "#         optimizer = keras.optimizers.Adagrad(learning_rate=learning_rate)\n",
    "#     elif optimizer == \"rmsprop\":\n",
    "#         optimizer = keras.optimizers.RMSprop(learning_rate=learning_rate)\n",
    "#     else:\n",
    "#         optimizer = keras.optimizers.Nadam(learning_rate=learning_rate)\n",
    "\n",
    "#     model.compile(\n",
    "#         optimizer=optimizer,\n",
    "#         loss=\"mean_squared_error\",\n",
    "#         metrics=[\"mean_absolute_error\"],\n",
    "#     )\n",
    "\n",
    "#     # Add regularization\n",
    "#     if hp.Boolean(\"use_regularization\"):\n",
    "#         l1_reg = hp.Float(\"l1_reg\", min_value=1e-6, max_value=1e-2, sampling=\"log\")\n",
    "#         l2_reg = hp.Float(\"l2_reg\", min_value=1e-6, max_value=1e-2, sampling=\"log\")\n",
    "#         model.add(keras.layers.ActivityRegularization(l1=l1_reg, l2=l2_reg))\n",
    "\n",
    "#     return model"
   ]
  },
  {
   "cell_type": "code",
   "execution_count": null,
   "id": "34570895",
   "metadata": {},
   "outputs": [
    {
     "name": "stdout",
     "output_type": "stream",
     "text": [
      "Trial 217 Complete [00h 00m 05s]\n",
      "val_loss: 0.5614820718765259\n",
      "\n",
      "Best val_loss So Far: 0.42471805214881897\n",
      "Total elapsed time: 00h 10m 54s\n",
      "\n",
      "Search: Running Trial #218\n",
      "\n",
      "Value             |Best Value So Far |Hyperparameter\n",
      "224               |32                |units_1\n",
      "tanh              |tanh              |activation_1\n",
      "48                |32                |units_2\n",
      "tanh              |tanh              |activation_2\n",
      "rmsprop           |nadam             |optimizer\n",
      "0.0001            |0.01              |learning_rate\n",
      "12                |34                |tuner/epochs\n",
      "0                 |12                |tuner/initial_epoch\n",
      "2                 |3                 |tuner/bracket\n",
      "0                 |2                 |tuner/round\n",
      "\n",
      "Epoch 1/12\n",
      "1/4 [======>.......................] - ETA: 1s - loss: 0.6711 - mean_absolute_error: 0.6743"
     ]
    }
   ],
   "source": [
    "tuner_100 = kt.Hyperband(\n",
    "    hypermodel=standard_model,\n",
    "    objective=\"val_loss\",\n",
    "    max_epochs=100,\n",
    "    factor=3,\n",
    "    overwrite=True,\n",
    "    directory=\"my_dir\",\n",
    "    project_name=\"standard_model_100\",\n",
    ")\n",
    "# Search for the best hyperparameters\n",
    "early_stopping = EarlyStopping(monitor=\"val_loss\", patience=10)\n",
    "tuner_100.search(\n",
    "    X_train_100,\n",
    "    y_train_100,\n",
    "    epochs=100,\n",
    "    validation_data=(X_val, y_val),\n",
    "    callbacks=[early_stopping],\n",
    "#     verbose=1,\n",
    ")"
   ]
  },
  {
   "cell_type": "code",
   "execution_count": null,
   "id": "bdd68dc9",
   "metadata": {},
   "outputs": [],
   "source": [
    "best_hps_100 = tuner_100.get_best_hyperparameters(num_trials=1)[0]\n",
    "model_100 = tuner_100.hypermodel.build(best_hps_100)"
   ]
  },
  {
   "cell_type": "code",
   "execution_count": null,
   "id": "d9b9374a",
   "metadata": {},
   "outputs": [],
   "source": [
    "# Train the model on the training set\n",
    "history_100 = model_100.fit(\n",
    "    X_train_100,\n",
    "    y_train_100,\n",
    "    epochs=100,\n",
    "    validation_data=(X_val, y_val),\n",
    "    callbacks=[early_stopping],\n",
    ")"
   ]
  },
  {
   "cell_type": "code",
   "execution_count": null,
   "id": "6f6c34c7",
   "metadata": {},
   "outputs": [],
   "source": [
    "# Evaluate the model on the validation dataset\n",
    "val_loss, val_acc = model_100.evaluate(X_val, y_val)\n",
    "print(\"Validation loss: {:.3f}\".format(val_loss))\n",
    "print(\"Validation accuracy: {:.3f}\".format(val_acc))\n",
    "\n",
    "\n",
    "# Save the model\n",
    "model_100.save(\"models/model_standard_100.h5\")"
   ]
  },
  {
   "cell_type": "code",
   "execution_count": null,
   "id": "02bf1085",
   "metadata": {},
   "outputs": [],
   "source": [
    "tuner_1000 = kt.Hyperband(\n",
    "    hypermodel=standard_model,\n",
    "    objective=\"val_loss\",\n",
    "    max_epochs=100,\n",
    "    factor=3,\n",
    "    overwrite=True,\n",
    "    directory=\"my_dir\",\n",
    "    project_name=\"standard_model_1000\",\n",
    ")\n",
    "# Search for the best hyperparameters\n",
    "early_stopping = EarlyStopping(monitor=\"val_loss\", patience=10)\n",
    "tuner_1000.search(\n",
    "    X_train_1000,\n",
    "    y_train_1000,\n",
    "    epochs=100,\n",
    "    validation_data=(X_val, y_val),\n",
    "    callbacks=[early_stopping],\n",
    "#     verbose=1,\n",
    ")\n"
   ]
  },
  {
   "cell_type": "code",
   "execution_count": null,
   "id": "1fef2d99",
   "metadata": {},
   "outputs": [],
   "source": [
    "best_hps_1000 = tuner_1000.get_best_hyperparameters(num_trials=1)[0]\n",
    "model_1000 = tuner_1000.hypermodel.build(best_hps_1000)"
   ]
  },
  {
   "cell_type": "code",
   "execution_count": null,
   "id": "55973e8d",
   "metadata": {},
   "outputs": [],
   "source": [
    "# Train the model on the training set\n",
    "history_1000 = model_1000.fit(\n",
    "    X_train_1000,\n",
    "    y_train_1000,\n",
    "    epochs=100,\n",
    "    validation_data=(X_val, y_val),\n",
    "    callbacks=[early_stopping],\n",
    ")"
   ]
  },
  {
   "cell_type": "code",
   "execution_count": null,
   "id": "8c3358b0",
   "metadata": {},
   "outputs": [],
   "source": [
    "# Evaluate the model on the validation dataset\n",
    "val_loss, val_acc = model_1000.evaluate(X_val, y_val)\n",
    "print(\"Validation loss: {:.3f}\".format(val_loss))\n",
    "print(\"Validation accuracy: {:.3f}\".format(val_acc))\n",
    "\n",
    "\n",
    "# Save the model\n",
    "model_1000.save(\"models/model_standard_1000.h5\")"
   ]
  },
  {
   "cell_type": "markdown",
   "id": "5c02efe1",
   "metadata": {},
   "source": [
    "### 3. Augment the dataset. \n",
    "\n",
    "Each training example (x, y) can be complemented by seven additional virtual examples as illustrated in Figure 1.\n",
    "Clockwise rotations and flips on input data x are obtained as described\n",
    "above. A clockwise rotation on output data y is obtained through\n",
    "y90 = (y2, −y1) and a flip along the vertical axis on the same data is\n",
    "represented by yf lipped = (−y1, y2). All other operations (rotation angles and associated flips) can be computed by subsequent application\n",
    "of these two operations."
   ]
  },
  {
   "cell_type": "code",
   "execution_count": null,
   "id": "d03f25c4",
   "metadata": {},
   "outputs": [],
   "source": [
    "def augment_data(x_train, y_train):\n",
    "    # initialize empty lists for augmented data and labels\n",
    "    x_train_aug = []\n",
    "    y_train_aug = []\n",
    "\n",
    "    for i in range(len(x_train)):\n",
    "        x_train_aug.append(x_train[i])\n",
    "        y_train_aug.append(y_train[i])\n",
    "\n",
    "        # 90 degree clockwise rotation\n",
    "        x_train_aug.append(\n",
    "            np.flip(\n",
    "                np.array([-x_train[i][1], x_train[i][0], -x_train[i][3], x_train[i][2]])\n",
    "            )\n",
    "        )\n",
    "        y_train_aug.append(np.flip(np.array([y_train[i][1], -y_train[i][0]])))\n",
    "\n",
    "        # 180 degree clockwise rotation\n",
    "        x_train_aug.append(\n",
    "            np.flip(\n",
    "                np.array([-x_train[i][2], -x_train[i][3], x_train[i][0], x_train[i][1]])\n",
    "            )\n",
    "        )\n",
    "        y_train_aug.append(np.flip(np.array([-y_train[i][0], -y_train[i][1]])))\n",
    "\n",
    "        # 270 degree clockwise rotation\n",
    "        x_train_aug.append(\n",
    "            np.flip(\n",
    "                np.array([x_train[i][3], -x_train[i][2], x_train[i][1], -x_train[i][0]])\n",
    "            )\n",
    "        )\n",
    "        y_train_aug.append(np.flip(np.array([-y_train[i][1], y_train[i][0]])))\n",
    "\n",
    "        # vertical flip\n",
    "        x_train_aug.append(\n",
    "            np.flip(\n",
    "                np.array([x_train[i][2], x_train[i][3], x_train[i][0], x_train[i][1]])\n",
    "            )\n",
    "        )\n",
    "        y_train_aug.append(np.flip(np.array([-y_train[i][0], y_train[i][1]])))\n",
    "\n",
    "        # horizontal flip + 90 degree clockwise rotation\n",
    "        x_train_aug.append(\n",
    "            np.flip(\n",
    "                np.array(\n",
    "                    [-x_train[i][1], -x_train[i][0], -x_train[i][3], -x_train[i][2]]\n",
    "                )\n",
    "            )\n",
    "        )\n",
    "        y_train_aug.append(np.flip(np.array([-y_train[i][1], y_train[i][0]])))\n",
    "\n",
    "        # horizontal flip + 180 degree clockwise rotation\n",
    "        x_train_aug.append(\n",
    "            np.flip(\n",
    "                np.array([-x_train[i][2], -x_train[i][1], x_train[i][0], x_train[i][3]])\n",
    "            )\n",
    "        )\n",
    "        y_train_aug.append(np.flip(np.array([y_train[i][0], y_train[i][1]])))\n",
    "\n",
    "        # horizontal flip + 270 degree clockwise rotation\n",
    "        x_train_aug.append(\n",
    "            np.flip(\n",
    "                np.array([x_train[i][3], x_train[i][2], -x_train[i][1], x_train[i][0]])\n",
    "            )\n",
    "        )\n",
    "        y_train_aug.append(np.flip(np.array([y_train[i][1], -y_train[i][0]])))\n",
    "    return x_train_aug, y_train_aug"
   ]
  },
  {
   "cell_type": "code",
   "execution_count": null,
   "id": "af83a736",
   "metadata": {},
   "outputs": [],
   "source": [
    "# Augment the training data with the augment_data function for the X_train_100 and y_train_100 data\n",
    "x_train_augmented, y_train_augmented = augment_data(X_train_100, y_train_100)\n",
    "x_train_augmented_1000, y_train_augmented_1000 = augment_data(\n",
    "    X_train_1000, y_train_1000\n",
    ")\n",
    "\n",
    "# Convert the augmented data and labels to numpy arrays\n",
    "X_train_augmented = np.array(x_train_augmented)\n",
    "y_train_augmented = np.array(y_train_augmented)\n",
    "X_train_augmented_1000 = np.array(x_train_augmented_1000)\n",
    "y_train_augmented_1000 = np.array(y_train_augmented_1000)"
   ]
  },
  {
   "cell_type": "markdown",
   "id": "f817fa7e",
   "metadata": {},
   "source": [
    "### 4. Repeat 2. \n",
    "on the augmented dataset. Save this model as model standard [m] augmented.h5."
   ]
  },
  {
   "cell_type": "code",
   "execution_count": null,
   "id": "04f5dff8",
   "metadata": {},
   "outputs": [],
   "source": [
    "tuner_100_aug = kt.Hyperband(\n",
    "    hypermodel=standard_model,\n",
    "    objective=\"val_loss\",\n",
    "    max_epochs=100,\n",
    "    factor=3,\n",
    "    overwrite=True,\n",
    "    directory=\"my_dir\",\n",
    "    project_name=\"standard_model_aug_100\",\n",
    ")\n",
    "# Search for the best hyperparameters\n",
    "early_stopping = EarlyStopping(monitor=\"val_loss\", patience=10)\n",
    "tuner_100_aug.search(\n",
    "    X_train_augmented,\n",
    "    y_train_augmented,\n",
    "    epochs=100,\n",
    "    validation_data=(X_val, y_val),\n",
    "    callbacks=[early_stopping],\n",
    "#     verbose=1,\n",
    ")"
   ]
  },
  {
   "cell_type": "code",
   "execution_count": null,
   "id": "cb60c8c7",
   "metadata": {},
   "outputs": [],
   "source": [
    "best_hps_aug_100 = tuner_100_aug.get_best_hyperparameters(num_trials=1)[0]\n",
    "model_aug_100 = tuner_100_aug.hypermodel.build(best_hps_aug_100)"
   ]
  },
  {
   "cell_type": "code",
   "execution_count": null,
   "id": "5585df82",
   "metadata": {},
   "outputs": [],
   "source": [
    "# Train the model on the training set\n",
    "history_aug_100 = model_aug_100.fit(\n",
    "    X_train_augmented,\n",
    "    y_train_augmented,\n",
    "    epochs=100,\n",
    "    validation_data=(X_val, y_val),\n",
    "    callbacks=[early_stopping],\n",
    ")"
   ]
  },
  {
   "cell_type": "code",
   "execution_count": null,
   "id": "5e805a4f",
   "metadata": {},
   "outputs": [],
   "source": [
    "# Evaluate the model on the validation dataset\n",
    "val_loss, val_acc = model_aug_100.evaluate(X_val, y_val)\n",
    "print(\"Validation loss: {:.3f}\".format(val_loss))\n",
    "print(\"Validation accuracy: {:.3f}\".format(val_acc))\n",
    "\n",
    "\n",
    "# Save the model\n",
    "model_aug_100.save(\"models/model_standard_100_augmented.h5\")"
   ]
  },
  {
   "cell_type": "code",
   "execution_count": null,
   "id": "890ac823",
   "metadata": {},
   "outputs": [],
   "source": [
    "tuner_1000_aug = kt.Hyperband(\n",
    "    hypermodel=standard_model,\n",
    "    objective=\"val_loss\",\n",
    "    max_epochs=100,\n",
    "    factor=3,\n",
    "    overwrite=True,\n",
    "    directory=\"my_dir\",\n",
    "    project_name=\"standard_model_aug_1000\",\n",
    ")\n",
    "# Search for the best hyperparameters\n",
    "early_stopping = EarlyStopping(monitor=\"val_loss\", patience=10)\n",
    "tuner_1000_aug.search(\n",
    "    X_train_augmented_1000,\n",
    "    y_train_augmented_1000,\n",
    "    epochs=100,\n",
    "    validation_data=(X_val, y_val),\n",
    "    callbacks=[early_stopping],\n",
    "#     verbose=1,\n",
    ")"
   ]
  },
  {
   "cell_type": "code",
   "execution_count": null,
   "id": "b1b3ffd3",
   "metadata": {},
   "outputs": [],
   "source": [
    "best_hps_aug_1000 = tuner_1000_aug.get_best_hyperparameters(num_trials=1)[0]\n",
    "model_aug_1000 = tuner_1000_aug.hypermodel.build(best_hps_aug_1000)"
   ]
  },
  {
   "cell_type": "code",
   "execution_count": null,
   "id": "8dd585b1",
   "metadata": {},
   "outputs": [],
   "source": [
    "# Train the model on the training set\n",
    "history_aug_1000 = model_aug_1000.fit(\n",
    "    X_train_augmented_1000,\n",
    "    y_train_augmented_1000,\n",
    "    epochs=100,\n",
    "    validation_data=(X_val, y_val),\n",
    "    callbacks=[early_stopping],\n",
    ")"
   ]
  },
  {
   "cell_type": "code",
   "execution_count": null,
   "id": "561647a3",
   "metadata": {},
   "outputs": [],
   "source": [
    "# Evaluate the model on the validation dataset\n",
    "val_loss, val_acc = model_aug_1000.evaluate(X_val, y_val)\n",
    "print(\"Validation loss: {:.3f}\".format(val_loss))\n",
    "print(\"Validation accuracy: {:.3f}\".format(val_acc))\n",
    "\n",
    "\n",
    "# Save the model\n",
    "model_aug_100.save(\"models/model_standard_1000_augmented.h5\")"
   ]
  }
 ],
 "metadata": {
  "kernelspec": {
   "display_name": "Python 3 (ipykernel)",
   "language": "python",
   "name": "python3"
  },
  "language_info": {
   "codemirror_mode": {
    "name": "ipython",
    "version": 3
   },
   "file_extension": ".py",
   "mimetype": "text/x-python",
   "name": "python",
   "nbconvert_exporter": "python",
   "pygments_lexer": "ipython3",
   "version": "3.9.16"
  }
 },
 "nbformat": 4,
 "nbformat_minor": 5
}
