{
 "cells": [
  {
   "cell_type": "code",
   "execution_count": 1,
   "id": "2f65f9ce",
   "metadata": {},
   "outputs": [
    {
     "ename": "ModuleNotFoundError",
     "evalue": "No module named 'keras_tuner'",
     "output_type": "error",
     "traceback": [
      "\u001b[1;31m---------------------------------------------------------------------------\u001b[0m",
      "\u001b[1;31mModuleNotFoundError\u001b[0m                       Traceback (most recent call last)",
      "Cell \u001b[1;32mIn [1], line 4\u001b[0m\n\u001b[0;32m      2\u001b[0m \u001b[38;5;28;01mimport\u001b[39;00m \u001b[38;5;21;01mnumpy\u001b[39;00m \u001b[38;5;28;01mas\u001b[39;00m \u001b[38;5;21;01mnp\u001b[39;00m\n\u001b[0;32m      3\u001b[0m \u001b[38;5;28;01mimport\u001b[39;00m \u001b[38;5;21;01mpandas\u001b[39;00m \u001b[38;5;28;01mas\u001b[39;00m \u001b[38;5;21;01mpd\u001b[39;00m\n\u001b[1;32m----> 4\u001b[0m \u001b[38;5;28;01mimport\u001b[39;00m \u001b[38;5;21;01mkeras_tuner\u001b[39;00m\n\u001b[0;32m      5\u001b[0m \u001b[38;5;28;01mfrom\u001b[39;00m \u001b[38;5;21;01mtensorflow\u001b[39;00m \u001b[38;5;28;01mimport\u001b[39;00m keras\n\u001b[0;32m      6\u001b[0m \u001b[38;5;28;01mimport\u001b[39;00m \u001b[38;5;21;01mmatplotlib\u001b[39;00m\u001b[38;5;21;01m.\u001b[39;00m\u001b[38;5;21;01mpyplot\u001b[39;00m \u001b[38;5;28;01mas\u001b[39;00m \u001b[38;5;21;01mplt\u001b[39;00m\n",
      "\u001b[1;31mModuleNotFoundError\u001b[0m: No module named 'keras_tuner'"
     ]
    }
   ],
   "source": [
    "import tensorflow as tf\n",
    "import numpy as np\n",
    "import pandas as pd\n",
    "import keras_tuner\n",
    "from tensorflow import keras\n",
    "import matplotlib.pyplot as plt\n",
    "import seaborn as sns"
   ]
  },
  {
   "cell_type": "code",
   "execution_count": 328,
   "id": "f1e52263",
   "metadata": {},
   "outputs": [],
   "source": [
    "leakage_dataset_train_100 = pd.read_csv(r\"Leakage Detection\\leakage_dataset_train_100.csv\")\n",
    "#leakage_dataset_train_1000 = pd.read_csv(r\"Leakage Detection\\leakage_dataset_train_1000.csv\")\n",
    "leakage_dataset_validation_1000 = pd.read_csv(r\"Leakage Detection\\leakage_dataset_validation_1000.csv\")"
   ]
  },
  {
   "cell_type": "code",
   "execution_count": 329,
   "id": "66664f8c",
   "metadata": {},
   "outputs": [],
   "source": [
    "X_train = leakage_dataset_train_100[['mfc1', 'mfc2', 'mfc3', 'mfc4']].to_numpy()\n",
    "Y_train = leakage_dataset_train_100[['y1', 'y2']].to_numpy()"
   ]
  },
  {
   "cell_type": "code",
   "execution_count": 330,
   "id": "d11a0e9a",
   "metadata": {},
   "outputs": [],
   "source": [
    "X_validation = leakage_dataset_validation_1000[['mfc1', 'mfc2', 'mfc3', 'mfc4']].to_numpy()\n",
    "Y_validation = leakage_dataset_validation_1000[['y1', 'y2']].to_numpy()"
   ]
  },
  {
   "cell_type": "code",
   "execution_count": 331,
   "id": "351b2d3f",
   "metadata": {},
   "outputs": [
    {
     "data": {
      "text/plain": [
       "[0.9999999999999998,\n",
       " 0.9999999999999999,\n",
       " 1.0,\n",
       " 1.0,\n",
       " 1.0,\n",
       " 0.9999999999999998,\n",
       " 1.0,\n",
       " 0.9999999999999998,\n",
       " 0.9999999999999998,\n",
       " 0.9999999999999998,\n",
       " 0.9999999999999999,\n",
       " 1.0000000000000002,\n",
       " 0.9999999999999998,\n",
       " 1.0,\n",
       " 0.9999999999999999,\n",
       " 0.9999999999999998,\n",
       " 0.9999999999999999,\n",
       " 0.9999999999999999,\n",
       " 0.9999999999999999,\n",
       " 0.9999999999999998,\n",
       " 1.0,\n",
       " 0.9999999999999998,\n",
       " 0.9999999999999998,\n",
       " 0.9999999999999997,\n",
       " 0.9999999999999998,\n",
       " 1.0,\n",
       " 0.9999999999999999,\n",
       " 0.9999999999999997,\n",
       " 0.9999999999999998,\n",
       " 0.9999999999999997,\n",
       " 0.9999999999999998,\n",
       " 0.9999999999999998,\n",
       " 0.9999999999999999,\n",
       " 0.9999999999999999,\n",
       " 0.9999999999999998,\n",
       " 1.0,\n",
       " 0.9999999999999999,\n",
       " 0.9999999999999997,\n",
       " 1.0,\n",
       " 1.0,\n",
       " 1.0,\n",
       " 0.9999999999999998,\n",
       " 0.9999999999999998,\n",
       " 0.9999999999999999,\n",
       " 1.0,\n",
       " 1.0,\n",
       " 0.9999999999999998,\n",
       " 0.9999999999999998,\n",
       " 0.9999999999999999,\n",
       " 0.9999999999999998,\n",
       " 0.9999999999999998,\n",
       " 1.0,\n",
       " 1.0,\n",
       " 0.9999999999999999,\n",
       " 0.9999999999999998,\n",
       " 1.0,\n",
       " 1.0,\n",
       " 1.0,\n",
       " 0.9999999999999999,\n",
       " 0.9999999999999998,\n",
       " 0.9999999999999999,\n",
       " 0.9999999999999996,\n",
       " 1.0,\n",
       " 1.0,\n",
       " 0.9999999999999998,\n",
       " 1.0,\n",
       " 0.9999999999999998,\n",
       " 1.0,\n",
       " 0.9999999999999999,\n",
       " 0.9999999999999998,\n",
       " 0.9999999999999999,\n",
       " 1.0,\n",
       " 0.9999999999999997,\n",
       " 1.0,\n",
       " 0.9999999999999999,\n",
       " 0.9999999999999998,\n",
       " 0.9999999999999999,\n",
       " 0.9999999999999999,\n",
       " 1.0,\n",
       " 0.9999999999999999,\n",
       " 0.9999999999999998,\n",
       " 0.9999999999999998,\n",
       " 1.0,\n",
       " 0.9999999999999998,\n",
       " 1.0,\n",
       " 0.9999999999999998,\n",
       " 0.9999999999999999,\n",
       " 0.9999999999999999,\n",
       " 0.9999999999999998,\n",
       " 1.0,\n",
       " 0.9999999999999996,\n",
       " 0.9999999999999998,\n",
       " 0.9999999999999998,\n",
       " 0.9999999999999998,\n",
       " 0.9999999999999998,\n",
       " 0.9999999999999998,\n",
       " 0.9999999999999998,\n",
       " 0.9999999999999999,\n",
       " 0.9999999999999998,\n",
       " 0.9999999999999998]"
      ]
     },
     "execution_count": 331,
     "metadata": {},
     "output_type": "execute_result"
    }
   ],
   "source": [
    "lst = []\n",
    "for i in X_train:\n",
    "    sum = 0\n",
    "    for j in i:\n",
    "        sum += j\n",
    "    lst.append(sum)\n",
    "lst"
   ]
  },
  {
   "cell_type": "code",
   "execution_count": 326,
   "id": "822cece8",
   "metadata": {},
   "outputs": [
    {
     "data": {
      "text/plain": [
       "array([[0.41525552, 0.17361751, 0.1497378 , 0.26138918],\n",
       "       [0.0916956 , 0.0595173 , 0.09472504, 0.75406206],\n",
       "       [0.15292732, 0.32832613, 0.33597277, 0.18277378],\n",
       "       [0.16139818, 0.1255142 , 0.18272491, 0.53036271],\n",
       "       [0.38068837, 0.16016258, 0.16803731, 0.29111174],\n",
       "       [0.28750866, 0.17637608, 0.15881871, 0.37729655],\n",
       "       [0.16128977, 0.32639877, 0.30481001, 0.20750145],\n",
       "       [0.11926427, 0.59904058, 0.12901478, 0.15268037],\n",
       "       [0.12654071, 0.11934361, 0.13004062, 0.62407506],\n",
       "       [0.24899306, 0.23970226, 0.24242152, 0.26888316],\n",
       "       [0.38467507, 0.24215416, 0.15726729, 0.21590349],\n",
       "       [0.25151598, 0.40482328, 0.14302099, 0.20063975],\n",
       "       [0.33277904, 0.23091118, 0.16404027, 0.27226951],\n",
       "       [0.13578954, 0.0951865 , 0.14137161, 0.62765235],\n",
       "       [0.3390113 , 0.27055232, 0.1695353 , 0.22090108],\n",
       "       [0.11633247, 0.60770901, 0.13988595, 0.13607257],\n",
       "       [0.36088794, 0.21496865, 0.18302105, 0.24112237],\n",
       "       [0.23514686, 0.33279143, 0.20028765, 0.23177406],\n",
       "       [0.19273579, 0.13911393, 0.16364254, 0.50450774],\n",
       "       [0.10179423, 0.09816159, 0.07395241, 0.72609177],\n",
       "       [0.13021056, 0.10400331, 0.12644706, 0.63933908],\n",
       "       [0.45038608, 0.15659423, 0.12794727, 0.26507242],\n",
       "       [0.18277156, 0.14972275, 0.20427643, 0.46322926],\n",
       "       [0.09934822, 0.11594151, 0.62359986, 0.1611104 ],\n",
       "       [0.36852329, 0.18586444, 0.16540498, 0.28020729],\n",
       "       [0.27925686, 0.2614568 , 0.20438901, 0.25489733],\n",
       "       [0.21993908, 0.15437877, 0.15163098, 0.47405117],\n",
       "       [0.75222066, 0.07677505, 0.05122426, 0.11978003],\n",
       "       [0.26290963, 0.23495499, 0.22144076, 0.28069462],\n",
       "       [0.16257435, 0.15633326, 0.31164801, 0.36944438],\n",
       "       [0.24731385, 0.18791916, 0.18876127, 0.37600572],\n",
       "       [0.13010043, 0.56782262, 0.14894203, 0.15313491],\n",
       "       [0.12680688, 0.18319161, 0.51077592, 0.17922559],\n",
       "       [0.24975103, 0.28359669, 0.22205748, 0.24459481],\n",
       "       [0.15408216, 0.17514963, 0.3685397 , 0.30222852],\n",
       "       [0.2404455 , 0.1915247 , 0.21329018, 0.35473961],\n",
       "       [0.12139805, 0.07802664, 0.10329464, 0.69728067],\n",
       "       [0.1509322 , 0.21557407, 0.41435756, 0.21913617],\n",
       "       [0.55725281, 0.16880202, 0.0992679 , 0.17467727],\n",
       "       [0.20484699, 0.27625444, 0.27050761, 0.24839096],\n",
       "       [0.19684025, 0.22008131, 0.28532038, 0.29775805],\n",
       "       [0.13237018, 0.3847264 , 0.28324053, 0.19966289],\n",
       "       [0.49633824, 0.16803474, 0.12796729, 0.20765973],\n",
       "       [0.31064454, 0.26228075, 0.18556372, 0.24151099],\n",
       "       [0.12935501, 0.19882345, 0.47034811, 0.20147343],\n",
       "       [0.21846041, 0.192536  , 0.22644747, 0.36255611],\n",
       "       [0.15912218, 0.28778368, 0.33422812, 0.21886602],\n",
       "       [0.19972797, 0.22761947, 0.2915114 , 0.28114116],\n",
       "       [0.17444329, 0.19973769, 0.22402187, 0.40179715],\n",
       "       [0.22130212, 0.37581781, 0.19196492, 0.21091516],\n",
       "       [0.44989786, 0.16859295, 0.14485496, 0.23665424],\n",
       "       [0.16974951, 0.2177934 , 0.36217631, 0.25028078],\n",
       "       [0.11706647, 0.08984373, 0.14351203, 0.64957778],\n",
       "       [0.4504011 , 0.18859279, 0.15313021, 0.20787591],\n",
       "       [0.06433784, 0.07699607, 0.71874798, 0.1399181 ],\n",
       "       [0.28037161, 0.23171548, 0.2024148 , 0.28549811],\n",
       "       [0.5252634 , 0.18405237, 0.11720164, 0.17348259],\n",
       "       [0.20231911, 0.30708618, 0.25530666, 0.23528805],\n",
       "       [0.16444503, 0.0994897 , 0.13602989, 0.60003538],\n",
       "       [0.2025513 , 0.22250066, 0.29017993, 0.28476812],\n",
       "       [0.15979511, 0.1863383 , 0.37403849, 0.2798281 ],\n",
       "       [0.15030101, 0.1795859 , 0.42546578, 0.24464731],\n",
       "       [0.20746924, 0.34090542, 0.23335295, 0.21827238],\n",
       "       [0.12858677, 0.17123709, 0.5039429 , 0.19623325],\n",
       "       [0.11761742, 0.10630608, 0.11957762, 0.65649887],\n",
       "       [0.17762945, 0.45221851, 0.17101355, 0.19913849],\n",
       "       [0.22488392, 0.27424597, 0.25630223, 0.24456787],\n",
       "       [0.2234223 , 0.18590355, 0.22613109, 0.36454305],\n",
       "       [0.15107751, 0.13614997, 0.18754001, 0.52523251],\n",
       "       [0.16679012, 0.23571411, 0.33471323, 0.26278254],\n",
       "       [0.11543184, 0.64956605, 0.10490354, 0.13009857],\n",
       "       [0.17303868, 0.25432756, 0.33937113, 0.23326263],\n",
       "       [0.15997308, 0.35839333, 0.27862182, 0.20301176],\n",
       "       [0.2891088 , 0.22400946, 0.20553472, 0.28134702],\n",
       "       [0.55874373, 0.13785154, 0.11267169, 0.19073304],\n",
       "       [0.18876136, 0.25340328, 0.30415028, 0.25368508],\n",
       "       [0.257748  , 0.26425343, 0.22746249, 0.25053608],\n",
       "       [0.32466879, 0.16272145, 0.16979977, 0.34281   ],\n",
       "       [0.17804649, 0.36424101, 0.2582819 , 0.19943061],\n",
       "       [0.15600949, 0.45204255, 0.20523709, 0.18671088],\n",
       "       [0.35826009, 0.22330699, 0.17878755, 0.23964537],\n",
       "       [0.152174  , 0.56458361, 0.13038458, 0.15285781],\n",
       "       [0.47680625, 0.14558343, 0.15484817, 0.22276214],\n",
       "       [0.16652004, 0.16219384, 0.30083304, 0.37045308],\n",
       "       [0.12815581, 0.51623284, 0.17462493, 0.18098642],\n",
       "       [0.08751141, 0.69129491, 0.10404733, 0.11714634],\n",
       "       [0.316786  , 0.20265344, 0.20028459, 0.28027596],\n",
       "       [0.1528525 , 0.4951238 , 0.17499206, 0.17703164],\n",
       "       [0.23665718, 0.15205223, 0.15111791, 0.46017268],\n",
       "       [0.19384598, 0.18120386, 0.26121957, 0.36373059],\n",
       "       [0.2664734 , 0.32748984, 0.1765985 , 0.22943826],\n",
       "       [0.32845127, 0.15000377, 0.15956905, 0.36197592],\n",
       "       [0.1630731 , 0.39469847, 0.25001798, 0.19221045],\n",
       "       [0.13881622, 0.11378157, 0.1557305 , 0.59167171],\n",
       "       [0.16854653, 0.46881146, 0.17306308, 0.18957893],\n",
       "       [0.16063138, 0.50201678, 0.16176496, 0.17558688],\n",
       "       [0.10626548, 0.67269403, 0.10863828, 0.11240221],\n",
       "       [0.19493292, 0.22273246, 0.31361332, 0.26872131],\n",
       "       [0.12624799, 0.13597506, 0.51835932, 0.21941764],\n",
       "       [0.34968876, 0.20663351, 0.18192324, 0.2617545 ]])"
      ]
     },
     "execution_count": 326,
     "metadata": {},
     "output_type": "execute_result"
    }
   ],
   "source": [
    "X_train"
   ]
  },
  {
   "cell_type": "code",
   "execution_count": 280,
   "id": "5204e083",
   "metadata": {},
   "outputs": [
    {
     "data": {
      "text/plain": [
       "y1      0\n",
       "y2      0\n",
       "mfc1    0\n",
       "mfc2    0\n",
       "mfc3    0\n",
       "mfc4    0\n",
       "dtype: int64"
      ]
     },
     "execution_count": 280,
     "metadata": {},
     "output_type": "execute_result"
    }
   ],
   "source": [
    "leakage_dataset_train_100.isnull().sum()"
   ]
  },
  {
   "cell_type": "code",
   "execution_count": 307,
   "id": "704678cb",
   "metadata": {},
   "outputs": [
    {
     "data": {
      "text/plain": [
       "Text(0.5, 0, 'Data')"
      ]
     },
     "execution_count": 307,
     "metadata": {},
     "output_type": "execute_result"
    },
    {
     "data": {
      "image/png": "[encoded data removed]",
      "text/plain": [
       "<Figure size 432x288 with 1 Axes>"
      ]
     },
     "metadata": {
      "needs_background": "light"
     },
     "output_type": "display_data"
    }
   ],
   "source": [
    "plt.hist(X_train)\n",
    "plt.ylabel('Number of data')\n",
    "plt.xlabel('Data')"
   ]
  },
  {
   "cell_type": "code",
   "execution_count": 308,
   "id": "babf702a",
   "metadata": {},
   "outputs": [
    {
     "data": {
      "image/png": "[encoded data removed]",
      "text/plain": [
       "<Figure size 432x288 with 1 Axes>"
      ]
     },
     "metadata": {
      "needs_background": "light"
     },
     "output_type": "display_data"
    }
   ],
   "source": [
    "%matplotlib inline\n",
    "B = plt.boxplot(X_train)\n",
    "plt.show()"
   ]
  },
  {
   "cell_type": "code",
   "execution_count": 298,
   "id": "b160ff39",
   "metadata": {},
   "outputs": [],
   "source": [
    "lst = []\n",
    "for i in X_train[:,:-1]:\n",
    "    sum = 0\n",
    "    for j in i:\n",
    "        sum += j\n",
    "    lst.append(sum)\n",
    "X_train[:,-1] = np.ones(100) - lst"
   ]
  },
  {
   "cell_type": "code",
   "execution_count": 309,
   "id": "aeedb303",
   "metadata": {},
   "outputs": [
    {
     "data": {
      "text/plain": [
       "[array([0.15104118, 0.06433784]),\n",
       " array([0.27953555, 0.4504011 ]),\n",
       " array([0.15927049, 0.0595173 ]),\n",
       " array([0.2926093 , 0.46881146]),\n",
       " array([0.15077288, 0.05122426]),\n",
       " array([0.27253617, 0.42546578]),\n",
       " array([0.20039553, 0.11240221]),\n",
       " array([0.35654869, 0.53036271])]"
      ]
     },
     "execution_count": 309,
     "metadata": {},
     "output_type": "execute_result"
    }
   ],
   "source": [
    "list_whisker = [item.get_ydata() for item in B['whiskers']]\n",
    "list_whisker"
   ]
  },
  {
   "cell_type": "code",
   "execution_count": 310,
   "id": "d71b997a",
   "metadata": {},
   "outputs": [
    {
     "data": {
      "image/png": "[encoded data removed]",
      "text/plain": [
       "<Figure size 432x288 with 1 Axes>"
      ]
     },
     "metadata": {
      "needs_background": "light"
     },
     "output_type": "display_data"
    }
   ],
   "source": [
    "%matplotlib inline\n",
    "B1 = plt.boxplot(X_validation)\n",
    "plt.show()"
   ]
  },
  {
   "cell_type": "code",
   "execution_count": 312,
   "id": "11960bf4",
   "metadata": {},
   "outputs": [
    {
     "data": {
      "text/plain": [
       "[array([0.16234618, 0.05349716]),\n",
       " array([0.2993559 , 0.50403049]),\n",
       " array([0.16344416, 0.04891348]),\n",
       " array([0.29840857, 0.49760057]),\n",
       " array([0.16077478, 0.05659426]),\n",
       " array([0.28779415, 0.47630593]),\n",
       " array([0.16270096, 0.04941728]),\n",
       " array([0.29547214, 0.49441948])]"
      ]
     },
     "execution_count": 312,
     "metadata": {},
     "output_type": "execute_result"
    }
   ],
   "source": [
    "list_whisker_val = [item.get_ydata() for item in B1['whiskers']]\n",
    "list_whisker_val"
   ]
  },
  {
   "cell_type": "code",
   "execution_count": 269,
   "id": "253a0226",
   "metadata": {},
   "outputs": [
    {
     "name": "stdout",
     "output_type": "stream",
     "text": [
      "0.058359800593139534\n",
      "0.44822611241540056\n"
     ]
    }
   ],
   "source": [
    "count = 0\n",
    "lower_whisker = 0\n",
    "upper_whisker = 0\n",
    "for i in list_whisker[:-2]:\n",
    "    if count%2 == 0:\n",
    "        lower_whisker = lower_whisker + i[1]\n",
    "    if count%2 != 0:\n",
    "        upper_whisker += i[1]\n",
    "    count += 1\n",
    "    \n",
    "lower_whisker = lower_whisker/3\n",
    "upper_whisker = upper_whisker/3\n",
    "\n",
    "print(lower_whisker)\n",
    "print(upper_whisker)"
   ]
  },
  {
   "cell_type": "code",
   "execution_count": 270,
   "id": "d09c7114",
   "metadata": {},
   "outputs": [
    {
     "name": "stdout",
     "output_type": "stream",
     "text": [
      "0.05404241\n",
      "0.082136597\n"
     ]
    }
   ],
   "source": [
    "diff_lower_whisker = list_whisker[-2][1] - lower_whisker\n",
    "diff_lower_whisker = float(\"{:10.9f}\".format(diff_lower_whisker))\n",
    "diff_upper_whisker = list_whisker[-1][1] - upper_whisker\n",
    "diff_upper_whisker = float(\"{:10.9f}\".format(diff_upper_whisker))\n",
    "print(diff_lower_whisker)\n",
    "print(diff_upper_whisker)"
   ]
  },
  {
   "cell_type": "code",
   "execution_count": 271,
   "id": "681326c2",
   "metadata": {},
   "outputs": [
    {
     "data": {
      "text/plain": [
       "array([[0.41525552, 0.17361751, 0.1497378 , 0.20734677],\n",
       "       [0.0916956 , 0.0595173 , 0.09472504, 0.70001965],\n",
       "       [0.15292732, 0.32832613, 0.33597277, 0.12873137],\n",
       "       [0.16139818, 0.1255142 , 0.18272491, 0.4763203 ],\n",
       "       [0.38068837, 0.16016258, 0.16803731, 0.23706933],\n",
       "       [0.28750866, 0.17637608, 0.15881871, 0.32325414],\n",
       "       [0.16128977, 0.32639877, 0.30481001, 0.15345904],\n",
       "       [0.11926427, 0.59904058, 0.12901478, 0.09863796],\n",
       "       [0.12654071, 0.11934361, 0.13004062, 0.57003265],\n",
       "       [0.24899306, 0.23970226, 0.24242152, 0.21484075],\n",
       "       [0.38467507, 0.24215416, 0.15726729, 0.16186108],\n",
       "       [0.25151598, 0.40482328, 0.14302099, 0.14659734],\n",
       "       [0.33277904, 0.23091118, 0.16404027, 0.2182271 ],\n",
       "       [0.13578954, 0.0951865 , 0.14137161, 0.57360994],\n",
       "       [0.3390113 , 0.27055232, 0.1695353 , 0.16685867],\n",
       "       [0.11633247, 0.60770901, 0.13988595, 0.08203016],\n",
       "       [0.36088794, 0.21496865, 0.18302105, 0.18707996],\n",
       "       [0.23514686, 0.33279143, 0.20028765, 0.17773165],\n",
       "       [0.19273579, 0.13911393, 0.16364254, 0.45046533],\n",
       "       [0.10179423, 0.09816159, 0.07395241, 0.67204936],\n",
       "       [0.13021056, 0.10400331, 0.12644706, 0.58529667],\n",
       "       [0.45038608, 0.15659423, 0.12794727, 0.21103001],\n",
       "       [0.18277156, 0.14972275, 0.20427643, 0.40918685],\n",
       "       [0.09934822, 0.11594151, 0.62359986, 0.10706799],\n",
       "       [0.36852329, 0.18586444, 0.16540498, 0.22616488],\n",
       "       [0.27925686, 0.2614568 , 0.20438901, 0.20085492],\n",
       "       [0.21993908, 0.15437877, 0.15163098, 0.42000876],\n",
       "       [0.75222066, 0.07677505, 0.05122426, 0.06573762],\n",
       "       [0.26290963, 0.23495499, 0.22144076, 0.22665221],\n",
       "       [0.16257435, 0.15633326, 0.31164801, 0.31540197],\n",
       "       [0.24731385, 0.18791916, 0.18876127, 0.32196331],\n",
       "       [0.13010043, 0.56782262, 0.14894203, 0.0990925 ],\n",
       "       [0.12680688, 0.18319161, 0.51077592, 0.12518318],\n",
       "       [0.24975103, 0.28359669, 0.22205748, 0.1905524 ],\n",
       "       [0.15408216, 0.17514963, 0.3685397 , 0.24818611],\n",
       "       [0.2404455 , 0.1915247 , 0.21329018, 0.3006972 ],\n",
       "       [0.12139805, 0.07802664, 0.10329464, 0.64323826],\n",
       "       [0.1509322 , 0.21557407, 0.41435756, 0.16509376],\n",
       "       [0.55725281, 0.16880202, 0.0992679 , 0.12063486],\n",
       "       [0.20484699, 0.27625444, 0.27050761, 0.19434855],\n",
       "       [0.19684025, 0.22008131, 0.28532038, 0.24371564],\n",
       "       [0.13237018, 0.3847264 , 0.28324053, 0.14562048],\n",
       "       [0.49633824, 0.16803474, 0.12796729, 0.15361732],\n",
       "       [0.31064454, 0.26228075, 0.18556372, 0.18746858],\n",
       "       [0.12935501, 0.19882345, 0.47034811, 0.14743102],\n",
       "       [0.21846041, 0.192536  , 0.22644747, 0.3085137 ],\n",
       "       [0.15912218, 0.28778368, 0.33422812, 0.16482361],\n",
       "       [0.19972797, 0.22761947, 0.2915114 , 0.22709875],\n",
       "       [0.17444329, 0.19973769, 0.22402187, 0.34775474],\n",
       "       [0.22130212, 0.37581781, 0.19196492, 0.15687275],\n",
       "       [0.44989786, 0.16859295, 0.14485496, 0.18261183],\n",
       "       [0.16974951, 0.2177934 , 0.36217631, 0.19623837],\n",
       "       [0.11706647, 0.08984373, 0.14351203, 0.59553537],\n",
       "       [0.4504011 , 0.18859279, 0.15313021, 0.1538335 ],\n",
       "       [0.06433784, 0.07699607, 0.71874798, 0.08587569],\n",
       "       [0.28037161, 0.23171548, 0.2024148 , 0.2314557 ],\n",
       "       [0.5252634 , 0.18405237, 0.11720164, 0.11944018],\n",
       "       [0.20231911, 0.30708618, 0.25530666, 0.18124564],\n",
       "       [0.16444503, 0.0994897 , 0.13602989, 0.54599297],\n",
       "       [0.2025513 , 0.22250066, 0.29017993, 0.23072571],\n",
       "       [0.15979511, 0.1863383 , 0.37403849, 0.22578569],\n",
       "       [0.15030101, 0.1795859 , 0.42546578, 0.1906049 ],\n",
       "       [0.20746924, 0.34090542, 0.23335295, 0.16422997],\n",
       "       [0.12858677, 0.17123709, 0.5039429 , 0.14219084],\n",
       "       [0.11761742, 0.10630608, 0.11957762, 0.60245646],\n",
       "       [0.17762945, 0.45221851, 0.17101355, 0.14509608],\n",
       "       [0.22488392, 0.27424597, 0.25630223, 0.19052546],\n",
       "       [0.2234223 , 0.18590355, 0.22613109, 0.31050064],\n",
       "       [0.15107751, 0.13614997, 0.18754001, 0.4711901 ],\n",
       "       [0.16679012, 0.23571411, 0.33471323, 0.20874013],\n",
       "       [0.11543184, 0.64956605, 0.10490354, 0.07605616],\n",
       "       [0.17303868, 0.25432756, 0.33937113, 0.17922022],\n",
       "       [0.15997308, 0.35839333, 0.27862182, 0.14896935],\n",
       "       [0.2891088 , 0.22400946, 0.20553472, 0.22730461],\n",
       "       [0.55874373, 0.13785154, 0.11267169, 0.13669063],\n",
       "       [0.18876136, 0.25340328, 0.30415028, 0.19964267],\n",
       "       [0.257748  , 0.26425343, 0.22746249, 0.19649367],\n",
       "       [0.32466879, 0.16272145, 0.16979977, 0.28876759],\n",
       "       [0.17804649, 0.36424101, 0.2582819 , 0.1453882 ],\n",
       "       [0.15600949, 0.45204255, 0.20523709, 0.13266847],\n",
       "       [0.35826009, 0.22330699, 0.17878755, 0.18560296],\n",
       "       [0.152174  , 0.56458361, 0.13038458, 0.0988154 ],\n",
       "       [0.47680625, 0.14558343, 0.15484817, 0.16871973],\n",
       "       [0.16652004, 0.16219384, 0.30083304, 0.31641067],\n",
       "       [0.12815581, 0.51623284, 0.17462493, 0.12694401],\n",
       "       [0.08751141, 0.69129491, 0.10404733, 0.06310393],\n",
       "       [0.316786  , 0.20265344, 0.20028459, 0.22623355],\n",
       "       [0.1528525 , 0.4951238 , 0.17499206, 0.12298923],\n",
       "       [0.23665718, 0.15205223, 0.15111791, 0.40613027],\n",
       "       [0.19384598, 0.18120386, 0.26121957, 0.30968818],\n",
       "       [0.2664734 , 0.32748984, 0.1765985 , 0.17539585],\n",
       "       [0.32845127, 0.15000377, 0.15956905, 0.30793351],\n",
       "       [0.1630731 , 0.39469847, 0.25001798, 0.13816804],\n",
       "       [0.13881622, 0.11378157, 0.1557305 , 0.5376293 ],\n",
       "       [0.16854653, 0.46881146, 0.17306308, 0.13553652],\n",
       "       [0.16063138, 0.50201678, 0.16176496, 0.12154447],\n",
       "       [0.10626548, 0.67269403, 0.10863828, 0.0583598 ],\n",
       "       [0.19493292, 0.22273246, 0.31361332, 0.2146789 ],\n",
       "       [0.12624799, 0.13597506, 0.51835932, 0.16537523],\n",
       "       [0.34968876, 0.20663351, 0.18192324, 0.20771209]])"
      ]
     },
     "execution_count": 271,
     "metadata": {},
     "output_type": "execute_result"
    }
   ],
   "source": [
    "X_train[:,-1] = X_train[:,-1] - diff_lower_whisker\n",
    "X_train"
   ]
  },
  {
   "cell_type": "code",
   "execution_count": 321,
   "id": "f2263359",
   "metadata": {},
   "outputs": [
    {
     "data": {
      "text/plain": [
       "[0.9999999999999998,\n",
       " 0.9999999999999999,\n",
       " 1.0,\n",
       " 1.0,\n",
       " 1.0,\n",
       " 0.9999999999999998,\n",
       " 1.0,\n",
       " 0.9999999999999998,\n",
       " 0.9999999999999998,\n",
       " 0.9999999999999998,\n",
       " 0.9999999999999999,\n",
       " 1.0000000000000002,\n",
       " 0.9999999999999998,\n",
       " 1.0,\n",
       " 0.9999999999999999,\n",
       " 0.9999999999999998,\n",
       " 0.9999999999999999,\n",
       " 0.9999999999999999,\n",
       " 0.9999999999999999,\n",
       " 0.9999999999999998,\n",
       " 1.0,\n",
       " 0.9999999999999998,\n",
       " 0.9999999999999998,\n",
       " 0.9999999999999997,\n",
       " 0.9999999999999998,\n",
       " 1.0,\n",
       " 0.9999999999999999,\n",
       " 0.9999999999999997,\n",
       " 0.9999999999999998,\n",
       " 0.9999999999999997,\n",
       " 0.9999999999999998,\n",
       " 0.9999999999999998,\n",
       " 0.9999999999999999,\n",
       " 0.9999999999999999,\n",
       " 0.9999999999999998,\n",
       " 1.0,\n",
       " 0.9999999999999999,\n",
       " 0.9999999999999997,\n",
       " 1.0,\n",
       " 1.0,\n",
       " 1.0,\n",
       " 0.9999999999999998,\n",
       " 0.9999999999999998,\n",
       " 0.9999999999999999,\n",
       " 1.0,\n",
       " 1.0,\n",
       " 0.9999999999999998,\n",
       " 0.9999999999999998,\n",
       " 0.9999999999999999,\n",
       " 0.9999999999999998,\n",
       " 0.9999999999999998,\n",
       " 1.0,\n",
       " 1.0,\n",
       " 0.9999999999999999,\n",
       " 0.9999999999999998,\n",
       " 1.0,\n",
       " 1.0,\n",
       " 1.0,\n",
       " 0.9999999999999999,\n",
       " 0.9999999999999998,\n",
       " 0.9999999999999999,\n",
       " 0.9999999999999996,\n",
       " 1.0,\n",
       " 1.0,\n",
       " 0.9999999999999998,\n",
       " 1.0,\n",
       " 0.9999999999999998,\n",
       " 1.0,\n",
       " 0.9999999999999999,\n",
       " 0.9999999999999998,\n",
       " 0.9999999999999999,\n",
       " 1.0,\n",
       " 0.9999999999999997,\n",
       " 1.0,\n",
       " 0.9999999999999999,\n",
       " 0.9999999999999998,\n",
       " 0.9999999999999999,\n",
       " 0.9999999999999999,\n",
       " 1.0,\n",
       " 0.9999999999999999,\n",
       " 0.9999999999999998,\n",
       " 0.9999999999999998,\n",
       " 1.0,\n",
       " 0.9999999999999998,\n",
       " 1.0,\n",
       " 0.9999999999999998,\n",
       " 0.9999999999999999,\n",
       " 0.9999999999999999,\n",
       " 0.9999999999999998,\n",
       " 1.0,\n",
       " 0.9999999999999996,\n",
       " 0.9999999999999998,\n",
       " 0.9999999999999998,\n",
       " 0.9999999999999998,\n",
       " 0.9999999999999998,\n",
       " 0.9999999999999998,\n",
       " 0.9999999999999998,\n",
       " 0.9999999999999999,\n",
       " 0.9999999999999998,\n",
       " 0.9999999999999998]"
      ]
     },
     "execution_count": 321,
     "metadata": {},
     "output_type": "execute_result"
    }
   ],
   "source": [
    "lst = []\n",
    "for i in X_train:\n",
    "    sum = 0\n",
    "    for j in i:\n",
    "        sum += j\n",
    "    lst.append(sum)\n",
    "lst"
   ]
  },
  {
   "cell_type": "code",
   "execution_count": 314,
   "id": "01a9c787",
   "metadata": {},
   "outputs": [
    {
     "data": {
      "text/plain": [
       "array([[0.41525552, 0.17361751, 0.1497378 , 0.25      ],\n",
       "       [0.0916956 , 0.0595173 , 0.09472504, 0.25      ],\n",
       "       [0.15292732, 0.32832613, 0.33597277, 0.25      ],\n",
       "       [0.16139818, 0.1255142 , 0.18272491, 0.25      ],\n",
       "       [0.38068837, 0.16016258, 0.16803731, 0.25      ],\n",
       "       [0.28750866, 0.17637608, 0.15881871, 0.25      ],\n",
       "       [0.16128977, 0.32639877, 0.30481001, 0.25      ],\n",
       "       [0.11926427, 0.59904058, 0.12901478, 0.25      ],\n",
       "       [0.12654071, 0.11934361, 0.13004062, 0.25      ],\n",
       "       [0.24899306, 0.23970226, 0.24242152, 0.25      ],\n",
       "       [0.38467507, 0.24215416, 0.15726729, 0.25      ],\n",
       "       [0.25151598, 0.40482328, 0.14302099, 0.25      ],\n",
       "       [0.33277904, 0.23091118, 0.16404027, 0.25      ],\n",
       "       [0.13578954, 0.0951865 , 0.14137161, 0.25      ],\n",
       "       [0.3390113 , 0.27055232, 0.1695353 , 0.25      ],\n",
       "       [0.11633247, 0.60770901, 0.13988595, 0.25      ],\n",
       "       [0.36088794, 0.21496865, 0.18302105, 0.25      ],\n",
       "       [0.23514686, 0.33279143, 0.20028765, 0.25      ],\n",
       "       [0.19273579, 0.13911393, 0.16364254, 0.25      ],\n",
       "       [0.10179423, 0.09816159, 0.07395241, 0.25      ],\n",
       "       [0.13021056, 0.10400331, 0.12644706, 0.25      ],\n",
       "       [0.45038608, 0.15659423, 0.12794727, 0.25      ],\n",
       "       [0.18277156, 0.14972275, 0.20427643, 0.25      ],\n",
       "       [0.09934822, 0.11594151, 0.62359986, 0.25      ],\n",
       "       [0.36852329, 0.18586444, 0.16540498, 0.25      ],\n",
       "       [0.27925686, 0.2614568 , 0.20438901, 0.25      ],\n",
       "       [0.21993908, 0.15437877, 0.15163098, 0.25      ],\n",
       "       [0.75222066, 0.07677505, 0.05122426, 0.25      ],\n",
       "       [0.26290963, 0.23495499, 0.22144076, 0.25      ],\n",
       "       [0.16257435, 0.15633326, 0.31164801, 0.25      ],\n",
       "       [0.24731385, 0.18791916, 0.18876127, 0.25      ],\n",
       "       [0.13010043, 0.56782262, 0.14894203, 0.25      ],\n",
       "       [0.12680688, 0.18319161, 0.51077592, 0.25      ],\n",
       "       [0.24975103, 0.28359669, 0.22205748, 0.25      ],\n",
       "       [0.15408216, 0.17514963, 0.3685397 , 0.25      ],\n",
       "       [0.2404455 , 0.1915247 , 0.21329018, 0.25      ],\n",
       "       [0.12139805, 0.07802664, 0.10329464, 0.25      ],\n",
       "       [0.1509322 , 0.21557407, 0.41435756, 0.25      ],\n",
       "       [0.55725281, 0.16880202, 0.0992679 , 0.25      ],\n",
       "       [0.20484699, 0.27625444, 0.27050761, 0.25      ],\n",
       "       [0.19684025, 0.22008131, 0.28532038, 0.25      ],\n",
       "       [0.13237018, 0.3847264 , 0.28324053, 0.25      ],\n",
       "       [0.49633824, 0.16803474, 0.12796729, 0.25      ],\n",
       "       [0.31064454, 0.26228075, 0.18556372, 0.25      ],\n",
       "       [0.12935501, 0.19882345, 0.47034811, 0.25      ],\n",
       "       [0.21846041, 0.192536  , 0.22644747, 0.25      ],\n",
       "       [0.15912218, 0.28778368, 0.33422812, 0.25      ],\n",
       "       [0.19972797, 0.22761947, 0.2915114 , 0.25      ],\n",
       "       [0.17444329, 0.19973769, 0.22402187, 0.25      ],\n",
       "       [0.22130212, 0.37581781, 0.19196492, 0.25      ],\n",
       "       [0.44989786, 0.16859295, 0.14485496, 0.25      ],\n",
       "       [0.16974951, 0.2177934 , 0.36217631, 0.25      ],\n",
       "       [0.11706647, 0.08984373, 0.14351203, 0.25      ],\n",
       "       [0.4504011 , 0.18859279, 0.15313021, 0.25      ],\n",
       "       [0.06433784, 0.07699607, 0.71874798, 0.25      ],\n",
       "       [0.28037161, 0.23171548, 0.2024148 , 0.25      ],\n",
       "       [0.5252634 , 0.18405237, 0.11720164, 0.25      ],\n",
       "       [0.20231911, 0.30708618, 0.25530666, 0.25      ],\n",
       "       [0.16444503, 0.0994897 , 0.13602989, 0.25      ],\n",
       "       [0.2025513 , 0.22250066, 0.29017993, 0.25      ],\n",
       "       [0.15979511, 0.1863383 , 0.37403849, 0.25      ],\n",
       "       [0.15030101, 0.1795859 , 0.42546578, 0.25      ],\n",
       "       [0.20746924, 0.34090542, 0.23335295, 0.25      ],\n",
       "       [0.12858677, 0.17123709, 0.5039429 , 0.25      ],\n",
       "       [0.11761742, 0.10630608, 0.11957762, 0.25      ],\n",
       "       [0.17762945, 0.45221851, 0.17101355, 0.25      ],\n",
       "       [0.22488392, 0.27424597, 0.25630223, 0.25      ],\n",
       "       [0.2234223 , 0.18590355, 0.22613109, 0.25      ],\n",
       "       [0.15107751, 0.13614997, 0.18754001, 0.25      ],\n",
       "       [0.16679012, 0.23571411, 0.33471323, 0.25      ],\n",
       "       [0.11543184, 0.64956605, 0.10490354, 0.25      ],\n",
       "       [0.17303868, 0.25432756, 0.33937113, 0.25      ],\n",
       "       [0.15997308, 0.35839333, 0.27862182, 0.25      ],\n",
       "       [0.2891088 , 0.22400946, 0.20553472, 0.25      ],\n",
       "       [0.55874373, 0.13785154, 0.11267169, 0.25      ],\n",
       "       [0.18876136, 0.25340328, 0.30415028, 0.25      ],\n",
       "       [0.257748  , 0.26425343, 0.22746249, 0.25      ],\n",
       "       [0.32466879, 0.16272145, 0.16979977, 0.25      ],\n",
       "       [0.17804649, 0.36424101, 0.2582819 , 0.25      ],\n",
       "       [0.15600949, 0.45204255, 0.20523709, 0.25      ],\n",
       "       [0.35826009, 0.22330699, 0.17878755, 0.25      ],\n",
       "       [0.152174  , 0.56458361, 0.13038458, 0.25      ],\n",
       "       [0.47680625, 0.14558343, 0.15484817, 0.25      ],\n",
       "       [0.16652004, 0.16219384, 0.30083304, 0.25      ],\n",
       "       [0.12815581, 0.51623284, 0.17462493, 0.25      ],\n",
       "       [0.08751141, 0.69129491, 0.10404733, 0.25      ],\n",
       "       [0.316786  , 0.20265344, 0.20028459, 0.25      ],\n",
       "       [0.1528525 , 0.4951238 , 0.17499206, 0.25      ],\n",
       "       [0.23665718, 0.15205223, 0.15111791, 0.25      ],\n",
       "       [0.19384598, 0.18120386, 0.26121957, 0.25      ],\n",
       "       [0.2664734 , 0.32748984, 0.1765985 , 0.25      ],\n",
       "       [0.32845127, 0.15000377, 0.15956905, 0.25      ],\n",
       "       [0.1630731 , 0.39469847, 0.25001798, 0.25      ],\n",
       "       [0.13881622, 0.11378157, 0.1557305 , 0.25      ],\n",
       "       [0.16854653, 0.46881146, 0.17306308, 0.25      ],\n",
       "       [0.16063138, 0.50201678, 0.16176496, 0.25      ],\n",
       "       [0.10626548, 0.67269403, 0.10863828, 0.25      ],\n",
       "       [0.19493292, 0.22273246, 0.31361332, 0.25      ],\n",
       "       [0.12624799, 0.13597506, 0.51835932, 0.25      ],\n",
       "       [0.34968876, 0.20663351, 0.18192324, 0.25      ]])"
      ]
     },
     "execution_count": 314,
     "metadata": {},
     "output_type": "execute_result"
    }
   ],
   "source": [
    "X_train"
   ]
  },
  {
   "cell_type": "code",
   "execution_count": 300,
   "id": "f86d08cb",
   "metadata": {},
   "outputs": [
    {
     "data": {
      "image/png": "[encoded data removed]",
      "text/plain": [
       "<Figure size 432x288 with 1 Axes>"
      ]
     },
     "metadata": {
      "needs_background": "light"
     },
     "output_type": "display_data"
    }
   ],
   "source": [
    "%matplotlib inline\n",
    "B = plt.boxplot(X_train)\n",
    "plt.show()"
   ]
  },
  {
   "cell_type": "code",
   "execution_count": 121,
   "id": "427b8eaf",
   "metadata": {},
   "outputs": [
    {
     "data": {
      "text/plain": [
       "array([[0.41525552, 0.17361751, 0.1497378 , 0.20734677],\n",
       "       [0.0916956 , 0.0595173 , 0.09472504, 0.70001965],\n",
       "       [0.15292732, 0.32832613, 0.33597277, 0.12873137],\n",
       "       [0.16139818, 0.1255142 , 0.18272491, 0.4763203 ],\n",
       "       [0.38068837, 0.16016258, 0.16803731, 0.23706933],\n",
       "       [0.28750866, 0.17637608, 0.15881871, 0.32325414],\n",
       "       [0.16128977, 0.32639877, 0.30481001, 0.15345904],\n",
       "       [0.11926427, 0.59904058, 0.12901478, 0.09863796],\n",
       "       [0.12654071, 0.11934361, 0.13004062, 0.57003265],\n",
       "       [0.24899306, 0.23970226, 0.24242152, 0.21484075],\n",
       "       [0.38467507, 0.24215416, 0.15726729, 0.16186108],\n",
       "       [0.25151598, 0.40482328, 0.14302099, 0.14659734],\n",
       "       [0.33277904, 0.23091118, 0.16404027, 0.2182271 ],\n",
       "       [0.13578954, 0.0951865 , 0.14137161, 0.57360994],\n",
       "       [0.3390113 , 0.27055232, 0.1695353 , 0.16685867],\n",
       "       [0.11633247, 0.60770901, 0.13988595, 0.08203016],\n",
       "       [0.36088794, 0.21496865, 0.18302105, 0.18707996],\n",
       "       [0.23514686, 0.33279143, 0.20028765, 0.17773165],\n",
       "       [0.19273579, 0.13911393, 0.16364254, 0.45046533],\n",
       "       [0.10179423, 0.09816159, 0.07395241, 0.67204936],\n",
       "       [0.13021056, 0.10400331, 0.12644706, 0.58529667],\n",
       "       [0.45038608, 0.15659423, 0.12794727, 0.21103001],\n",
       "       [0.18277156, 0.14972275, 0.20427643, 0.40918685],\n",
       "       [0.09934822, 0.11594151, 0.62359986, 0.10706799],\n",
       "       [0.36852329, 0.18586444, 0.16540498, 0.22616488],\n",
       "       [0.27925686, 0.2614568 , 0.20438901, 0.20085492],\n",
       "       [0.21993908, 0.15437877, 0.15163098, 0.42000876],\n",
       "       [0.75222066, 0.07677505, 0.05122426, 0.06573762],\n",
       "       [0.26290963, 0.23495499, 0.22144076, 0.22665221],\n",
       "       [0.16257435, 0.15633326, 0.31164801, 0.31540197],\n",
       "       [0.24731385, 0.18791916, 0.18876127, 0.32196331],\n",
       "       [0.13010043, 0.56782262, 0.14894203, 0.0990925 ],\n",
       "       [0.12680688, 0.18319161, 0.51077592, 0.12518318],\n",
       "       [0.24975103, 0.28359669, 0.22205748, 0.1905524 ],\n",
       "       [0.15408216, 0.17514963, 0.3685397 , 0.24818611],\n",
       "       [0.2404455 , 0.1915247 , 0.21329018, 0.3006972 ],\n",
       "       [0.12139805, 0.07802664, 0.10329464, 0.64323826],\n",
       "       [0.1509322 , 0.21557407, 0.41435756, 0.16509376],\n",
       "       [0.55725281, 0.16880202, 0.0992679 , 0.12063486],\n",
       "       [0.20484699, 0.27625444, 0.27050761, 0.19434855],\n",
       "       [0.19684025, 0.22008131, 0.28532038, 0.24371564],\n",
       "       [0.13237018, 0.3847264 , 0.28324053, 0.14562048],\n",
       "       [0.49633824, 0.16803474, 0.12796729, 0.15361732],\n",
       "       [0.31064454, 0.26228075, 0.18556372, 0.18746858],\n",
       "       [0.12935501, 0.19882345, 0.47034811, 0.14743102],\n",
       "       [0.21846041, 0.192536  , 0.22644747, 0.3085137 ],\n",
       "       [0.15912218, 0.28778368, 0.33422812, 0.16482361],\n",
       "       [0.19972797, 0.22761947, 0.2915114 , 0.22709875],\n",
       "       [0.17444329, 0.19973769, 0.22402187, 0.34775474],\n",
       "       [0.22130212, 0.37581781, 0.19196492, 0.15687275],\n",
       "       [0.44989786, 0.16859295, 0.14485496, 0.18261183],\n",
       "       [0.16974951, 0.2177934 , 0.36217631, 0.19623837],\n",
       "       [0.11706647, 0.08984373, 0.14351203, 0.59553537],\n",
       "       [0.4504011 , 0.18859279, 0.15313021, 0.1538335 ],\n",
       "       [0.06433784, 0.07699607, 0.71874798, 0.08587569],\n",
       "       [0.28037161, 0.23171548, 0.2024148 , 0.2314557 ],\n",
       "       [0.5252634 , 0.18405237, 0.11720164, 0.11944018],\n",
       "       [0.20231911, 0.30708618, 0.25530666, 0.18124564],\n",
       "       [0.16444503, 0.0994897 , 0.13602989, 0.54599297],\n",
       "       [0.2025513 , 0.22250066, 0.29017993, 0.23072571],\n",
       "       [0.15979511, 0.1863383 , 0.37403849, 0.22578569],\n",
       "       [0.15030101, 0.1795859 , 0.42546578, 0.1906049 ],\n",
       "       [0.20746924, 0.34090542, 0.23335295, 0.16422997],\n",
       "       [0.12858677, 0.17123709, 0.5039429 , 0.14219084],\n",
       "       [0.11761742, 0.10630608, 0.11957762, 0.60245646],\n",
       "       [0.17762945, 0.45221851, 0.17101355, 0.14509608],\n",
       "       [0.22488392, 0.27424597, 0.25630223, 0.19052546],\n",
       "       [0.2234223 , 0.18590355, 0.22613109, 0.31050064],\n",
       "       [0.15107751, 0.13614997, 0.18754001, 0.4711901 ],\n",
       "       [0.16679012, 0.23571411, 0.33471323, 0.20874013],\n",
       "       [0.11543184, 0.64956605, 0.10490354, 0.07605616],\n",
       "       [0.17303868, 0.25432756, 0.33937113, 0.17922022],\n",
       "       [0.15997308, 0.35839333, 0.27862182, 0.14896935],\n",
       "       [0.2891088 , 0.22400946, 0.20553472, 0.22730461],\n",
       "       [0.55874373, 0.13785154, 0.11267169, 0.13669063],\n",
       "       [0.18876136, 0.25340328, 0.30415028, 0.19964267],\n",
       "       [0.257748  , 0.26425343, 0.22746249, 0.19649367],\n",
       "       [0.32466879, 0.16272145, 0.16979977, 0.28876759],\n",
       "       [0.17804649, 0.36424101, 0.2582819 , 0.1453882 ],\n",
       "       [0.15600949, 0.45204255, 0.20523709, 0.13266847],\n",
       "       [0.35826009, 0.22330699, 0.17878755, 0.18560296],\n",
       "       [0.152174  , 0.56458361, 0.13038458, 0.0988154 ],\n",
       "       [0.47680625, 0.14558343, 0.15484817, 0.16871973],\n",
       "       [0.16652004, 0.16219384, 0.30083304, 0.31641067],\n",
       "       [0.12815581, 0.51623284, 0.17462493, 0.12694401],\n",
       "       [0.08751141, 0.69129491, 0.10404733, 0.06310393],\n",
       "       [0.316786  , 0.20265344, 0.20028459, 0.22623355],\n",
       "       [0.1528525 , 0.4951238 , 0.17499206, 0.12298923],\n",
       "       [0.23665718, 0.15205223, 0.15111791, 0.40613027],\n",
       "       [0.19384598, 0.18120386, 0.26121957, 0.30968818],\n",
       "       [0.2664734 , 0.32748984, 0.1765985 , 0.17539585],\n",
       "       [0.32845127, 0.15000377, 0.15956905, 0.30793351],\n",
       "       [0.1630731 , 0.39469847, 0.25001798, 0.13816804],\n",
       "       [0.13881622, 0.11378157, 0.1557305 , 0.5376293 ],\n",
       "       [0.16854653, 0.46881146, 0.17306308, 0.13553652],\n",
       "       [0.16063138, 0.50201678, 0.16176496, 0.12154447],\n",
       "       [0.10626548, 0.67269403, 0.10863828, 0.0583598 ],\n",
       "       [0.19493292, 0.22273246, 0.31361332, 0.2146789 ],\n",
       "       [0.12624799, 0.13597506, 0.51835932, 0.16537523],\n",
       "       [0.34968876, 0.20663351, 0.18192324, 0.20771209]])"
      ]
     },
     "execution_count": 121,
     "metadata": {},
     "output_type": "execute_result"
    }
   ],
   "source": []
  },
  {
   "cell_type": "code",
   "execution_count": 232,
   "id": "c7f431ad",
   "metadata": {},
   "outputs": [
    {
     "data": {
      "image/png": "[encoded data removed]",
      "text/plain": [
       "<Figure size 432x288 with 1 Axes>"
      ]
     },
     "metadata": {
      "needs_background": "light"
     },
     "output_type": "display_data"
    }
   ],
   "source": [
    "%matplotlib inline\n",
    "B = plt.boxplot(X_train)\n",
    "plt.show()"
   ]
  },
  {
   "cell_type": "code",
   "execution_count": 233,
   "id": "af51966e",
   "metadata": {},
   "outputs": [
    {
     "data": {
      "text/plain": [
       "Text(0.5, 0, 'Data')"
      ]
     },
     "execution_count": 233,
     "metadata": {},
     "output_type": "execute_result"
    },
    {
     "data": {
      "image/png": "[encoded data removed]",
      "text/plain": [
       "<Figure size 432x288 with 1 Axes>"
      ]
     },
     "metadata": {
      "needs_background": "light"
     },
     "output_type": "display_data"
    }
   ],
   "source": [
    "plt.hist(X_train)\n",
    "plt.ylabel('Number of data')\n",
    "plt.xlabel('Data')"
   ]
  },
  {
   "cell_type": "code",
   "execution_count": 234,
   "id": "256aa04c",
   "metadata": {},
   "outputs": [],
   "source": [
    "l0 = tf.keras.layers.Dense(units = 4, input_shape = [4])\n",
    "l1 = tf.keras.layers.Dense(units = 64)\n",
    "l2 = tf.keras.layers.Dense(units = 128)\n",
    "l3 = tf.keras.layers.Dense(units = 2)\n",
    "model = tf.keras.Sequential([l0,l1,l2,l3])"
   ]
  },
  {
   "cell_type": "code",
   "execution_count": 235,
   "id": "10a72d02",
   "metadata": {},
   "outputs": [
    {
     "data": {
      "text/plain": [
       "(100, 4)"
      ]
     },
     "execution_count": 235,
     "metadata": {},
     "output_type": "execute_result"
    }
   ],
   "source": [
    "X_train.shape"
   ]
  },
  {
   "cell_type": "code",
   "execution_count": 236,
   "id": "f21c2495",
   "metadata": {},
   "outputs": [
    {
     "name": "stdout",
     "output_type": "stream",
     "text": [
      "Model: \"sequential_3\"\n",
      "_________________________________________________________________\n",
      " Layer (type)                Output Shape              Param #   \n",
      "=================================================================\n",
      " dense_12 (Dense)            (None, 4)                 20        \n",
      "                                                                 \n",
      " dense_13 (Dense)            (None, 64)                320       \n",
      "                                                                 \n",
      " dense_14 (Dense)            (None, 128)               8320      \n",
      "                                                                 \n",
      " dense_15 (Dense)            (None, 2)                 258       \n",
      "                                                                 \n",
      "=================================================================\n",
      "Total params: 8,918\n",
      "Trainable params: 8,918\n",
      "Non-trainable params: 0\n",
      "_________________________________________________________________\n"
     ]
    }
   ],
   "source": [
    "model.summary()"
   ]
  },
  {
   "cell_type": "code",
   "execution_count": 237,
   "id": "10436b5f",
   "metadata": {},
   "outputs": [],
   "source": [
    "model.compile(\n",
    "    loss='mean_squared_error',\n",
    "    optimizer=keras.optimizers.Adam(),\n",
    "    metrics=[\"accuracy\"],\n",
    ")"
   ]
  },
  {
   "cell_type": "code",
   "execution_count": 248,
   "id": "1a4fdbb7",
   "metadata": {},
   "outputs": [],
   "source": [
    "history = model.fit(X_train, Y_train, epochs=500, verbose=False, validation_data=(X_validation, Y_validation))"
   ]
  },
  {
   "cell_type": "code",
   "execution_count": 247,
   "id": "eaa07a56",
   "metadata": {},
   "outputs": [
    {
     "name": "stdout",
     "output_type": "stream",
     "text": [
      "0.9100000262260437\n"
     ]
    }
   ],
   "source": [
    "print(history.history['accuracy'][-1])"
   ]
  },
  {
   "cell_type": "code",
   "execution_count": 242,
   "id": "3c94eabf",
   "metadata": {},
   "outputs": [
    {
     "name": "stdout",
     "output_type": "stream",
     "text": [
      "1/1 [==============================] - 0s 31ms/step\n",
      "[[-0.40172797  0.25839782]]\n"
     ]
    }
   ],
   "source": [
    "print(model.predict(np.array([0.365104949,0.187123712,0.174337773,0.273433566]).reshape(1,4)))"
   ]
  },
  {
   "cell_type": "code",
   "execution_count": 1,
   "id": "b7d8729d",
   "metadata": {},
   "outputs": [],
   "source": [
    "import tensorflow as tf\n",
    "from tensorflow import keras"
   ]
  },
  {
   "cell_type": "code",
   "execution_count": 2,
   "id": "57890784",
   "metadata": {},
   "outputs": [],
   "source": [
    "import keras_tuner as kt\n"
   ]
  },
  {
   "cell_type": "code",
   "execution_count": 3,
   "id": "537f2243",
   "metadata": {},
   "outputs": [
    {
     "name": "stdout",
     "output_type": "stream",
     "text": [
      "Downloading data from https://storage.googleapis.com/tensorflow/tf-keras-datasets/train-labels-idx1-ubyte.gz\n",
      "29515/29515 [==============================] - 0s 1us/step\n",
      "Downloading data from https://storage.googleapis.com/tensorflow/tf-keras-datasets/train-images-idx3-ubyte.gz\n",
      "26421880/26421880 [==============================] - 3s 0us/step\n",
      "Downloading data from https://storage.googleapis.com/tensorflow/tf-keras-datasets/t10k-labels-idx1-ubyte.gz\n",
      "5148/5148 [==============================] - 0s 0s/step\n",
      "Downloading data from https://storage.googleapis.com/tensorflow/tf-keras-datasets/t10k-images-idx3-ubyte.gz\n",
      "4422102/4422102 [==============================] - 1s 0us/step\n"
     ]
    }
   ],
   "source": [
    "(img_train, label_train), (img_test, label_test) = keras.datasets.fashion_mnist.load_data()\n"
   ]
  },
  {
   "cell_type": "code",
   "execution_count": 4,
   "id": "b02afce0",
   "metadata": {},
   "outputs": [],
   "source": [
    "# Normalize pixel values between 0 and 1\n",
    "img_train = img_train.astype('float32') / 255.0\n",
    "img_test = img_test.astype('float32') / 255.0"
   ]
  },
  {
   "cell_type": "code",
   "execution_count": 11,
   "id": "e0064830",
   "metadata": {},
   "outputs": [
    {
     "data": {
      "text/plain": [
       "(60000, 28, 28)"
      ]
     },
     "execution_count": 11,
     "metadata": {},
     "output_type": "execute_result"
    },
    {
     "data": {
      "application/javascript": [
       "\n",
       "            setTimeout(function() {\n",
       "                var nbb_cell_id = 11;\n",
       "                var nbb_unformatted_code = \"img_train.shape\";\n",
       "                var nbb_formatted_code = \"img_train.shape\";\n",
       "                var nbb_cells = Jupyter.notebook.get_cells();\n",
       "                for (var i = 0; i < nbb_cells.length; ++i) {\n",
       "                    if (nbb_cells[i].input_prompt_number == nbb_cell_id) {\n",
       "                        if (nbb_cells[i].get_text() == nbb_unformatted_code) {\n",
       "                             nbb_cells[i].set_text(nbb_formatted_code);\n",
       "                        }\n",
       "                        break;\n",
       "                    }\n",
       "                }\n",
       "            }, 500);\n",
       "            "
      ],
      "text/plain": [
       "<IPython.core.display.Javascript object>"
      ]
     },
     "metadata": {},
     "output_type": "display_data"
    }
   ],
   "source": [
    "img_train.shape"
   ]
  },
  {
   "cell_type": "code",
   "execution_count": 6,
   "id": "f359e8bb",
   "metadata": {},
   "outputs": [
    {
     "data": {
      "application/javascript": [
       "\n",
       "            setTimeout(function() {\n",
       "                var nbb_cell_id = 6;\n",
       "                var nbb_unformatted_code = \"%load_ext nb_black\";\n",
       "                var nbb_formatted_code = \"%load_ext nb_black\";\n",
       "                var nbb_cells = Jupyter.notebook.get_cells();\n",
       "                for (var i = 0; i < nbb_cells.length; ++i) {\n",
       "                    if (nbb_cells[i].input_prompt_number == nbb_cell_id) {\n",
       "                        if (nbb_cells[i].get_text() == nbb_unformatted_code) {\n",
       "                             nbb_cells[i].set_text(nbb_formatted_code);\n",
       "                        }\n",
       "                        break;\n",
       "                    }\n",
       "                }\n",
       "            }, 500);\n",
       "            "
      ],
      "text/plain": [
       "<IPython.core.display.Javascript object>"
      ]
     },
     "metadata": {},
     "output_type": "display_data"
    }
   ],
   "source": [
    "%load_ext nb_black"
   ]
  },
  {
   "cell_type": "code",
   "execution_count": 7,
   "id": "93e8cc9b",
   "metadata": {},
   "outputs": [
    {
     "data": {
      "application/javascript": [
       "\n",
       "            setTimeout(function() {\n",
       "                var nbb_cell_id = 7;\n",
       "                var nbb_unformatted_code = \"def model_builder(hp):\\n  model = keras.Sequential()\\n  model.add(keras.layers.Flatten(input_shape=(28, 28)))\\n\\n  # Tune the number of units in the first Dense layer\\n  # Choose an optimal value between 32-512\\n  hp_units = hp.Int('units', min_value=32, max_value=512, step=32)\\n  model.add(keras.layers.Dense(units=hp_units, activation='relu'))\\n  model.add(keras.layers.Dense(10))\\n\\n  # Tune the learning rate for the optimizer\\n  # Choose an optimal value from 0.01, 0.001, or 0.0001\\n  hp_learning_rate = hp.Choice('learning_rate', values=[1e-2, 1e-3, 1e-4])\\n\\n  model.compile(optimizer=keras.optimizers.Adam(learning_rate=hp_learning_rate),\\n                loss=keras.losses.SparseCategoricalCrossentropy(from_logits=True),\\n                metrics=['accuracy'])\\n\\n  return model\";\n",
       "                var nbb_formatted_code = \"def model_builder(hp):\\n    model = keras.Sequential()\\n    model.add(keras.layers.Flatten(input_shape=(28, 28)))\\n\\n    # Tune the number of units in the first Dense layer\\n    # Choose an optimal value between 32-512\\n    hp_units = hp.Int(\\\"units\\\", min_value=32, max_value=512, step=32)\\n    model.add(keras.layers.Dense(units=hp_units, activation=\\\"relu\\\"))\\n    model.add(keras.layers.Dense(10))\\n\\n    # Tune the learning rate for the optimizer\\n    # Choose an optimal value from 0.01, 0.001, or 0.0001\\n    hp_learning_rate = hp.Choice(\\\"learning_rate\\\", values=[1e-2, 1e-3, 1e-4])\\n\\n    model.compile(\\n        optimizer=keras.optimizers.Adam(learning_rate=hp_learning_rate),\\n        loss=keras.losses.SparseCategoricalCrossentropy(from_logits=True),\\n        metrics=[\\\"accuracy\\\"],\\n    )\\n\\n    return model\";\n",
       "                var nbb_cells = Jupyter.notebook.get_cells();\n",
       "                for (var i = 0; i < nbb_cells.length; ++i) {\n",
       "                    if (nbb_cells[i].input_prompt_number == nbb_cell_id) {\n",
       "                        if (nbb_cells[i].get_text() == nbb_unformatted_code) {\n",
       "                             nbb_cells[i].set_text(nbb_formatted_code);\n",
       "                        }\n",
       "                        break;\n",
       "                    }\n",
       "                }\n",
       "            }, 500);\n",
       "            "
      ],
      "text/plain": [
       "<IPython.core.display.Javascript object>"
      ]
     },
     "metadata": {},
     "output_type": "display_data"
    }
   ],
   "source": [
    "def model_builder(hp):\n",
    "    model = keras.Sequential()\n",
    "    model.add(keras.layers.Flatten(input_shape=(28, 28)))\n",
    "\n",
    "    # Tune the number of units in the first Dense layer\n",
    "    # Choose an optimal value between 32-512\n",
    "    hp_units = hp.Int(\"units\", min_value=32, max_value=512, step=32)\n",
    "    model.add(keras.layers.Dense(units=hp_units, activation=\"relu\"))\n",
    "    model.add(keras.layers.Dense(10))\n",
    "\n",
    "    # Tune the learning rate for the optimizer\n",
    "    # Choose an optimal value from 0.01, 0.001, or 0.0001\n",
    "    hp_learning_rate = hp.Choice(\"learning_rate\", values=[1e-2, 1e-3, 1e-4])\n",
    "\n",
    "    model.compile(\n",
    "        optimizer=keras.optimizers.Adam(learning_rate=hp_learning_rate),\n",
    "        loss=keras.losses.SparseCategoricalCrossentropy(from_logits=True),\n",
    "        metrics=[\"accuracy\"],\n",
    "    )\n",
    "\n",
    "    return model"
   ]
  },
  {
   "cell_type": "code",
   "execution_count": 8,
   "id": "84497de7",
   "metadata": {},
   "outputs": [
    {
     "data": {
      "application/javascript": [
       "\n",
       "            setTimeout(function() {\n",
       "                var nbb_cell_id = 8;\n",
       "                var nbb_unformatted_code = \"tuner = kt.Hyperband(model_builder,\\n                     objective='val_accuracy',\\n                     max_epochs=10,\\n                     factor=3,\\n                     directory='my_dir',\\n                     project_name='intro_to_kt')\";\n",
       "                var nbb_formatted_code = \"tuner = kt.Hyperband(\\n    model_builder,\\n    objective=\\\"val_accuracy\\\",\\n    max_epochs=10,\\n    factor=3,\\n    directory=\\\"my_dir\\\",\\n    project_name=\\\"intro_to_kt\\\",\\n)\";\n",
       "                var nbb_cells = Jupyter.notebook.get_cells();\n",
       "                for (var i = 0; i < nbb_cells.length; ++i) {\n",
       "                    if (nbb_cells[i].input_prompt_number == nbb_cell_id) {\n",
       "                        if (nbb_cells[i].get_text() == nbb_unformatted_code) {\n",
       "                             nbb_cells[i].set_text(nbb_formatted_code);\n",
       "                        }\n",
       "                        break;\n",
       "                    }\n",
       "                }\n",
       "            }, 500);\n",
       "            "
      ],
      "text/plain": [
       "<IPython.core.display.Javascript object>"
      ]
     },
     "metadata": {},
     "output_type": "display_data"
    }
   ],
   "source": [
    "tuner = kt.Hyperband(\n",
    "    model_builder,\n",
    "    objective=\"val_accuracy\",\n",
    "    max_epochs=10,\n",
    "    factor=3,\n",
    "    directory=\"my_dir\",\n",
    "    project_name=\"intro_to_kt\",\n",
    ")"
   ]
  },
  {
   "cell_type": "code",
   "execution_count": 9,
   "id": "8d079db1",
   "metadata": {},
   "outputs": [
    {
     "data": {
      "application/javascript": [
       "\n",
       "            setTimeout(function() {\n",
       "                var nbb_cell_id = 9;\n",
       "                var nbb_unformatted_code = \"stop_early = tf.keras.callbacks.EarlyStopping(monitor='val_loss', patience=5)\";\n",
       "                var nbb_formatted_code = \"stop_early = tf.keras.callbacks.EarlyStopping(monitor=\\\"val_loss\\\", patience=5)\";\n",
       "                var nbb_cells = Jupyter.notebook.get_cells();\n",
       "                for (var i = 0; i < nbb_cells.length; ++i) {\n",
       "                    if (nbb_cells[i].input_prompt_number == nbb_cell_id) {\n",
       "                        if (nbb_cells[i].get_text() == nbb_unformatted_code) {\n",
       "                             nbb_cells[i].set_text(nbb_formatted_code);\n",
       "                        }\n",
       "                        break;\n",
       "                    }\n",
       "                }\n",
       "            }, 500);\n",
       "            "
      ],
      "text/plain": [
       "<IPython.core.display.Javascript object>"
      ]
     },
     "metadata": {},
     "output_type": "display_data"
    }
   ],
   "source": [
    "stop_early = tf.keras.callbacks.EarlyStopping(monitor='val_loss', patience=5)\n"
   ]
  },
  {
   "cell_type": "code",
   "execution_count": 12,
   "id": "6a5f6e3a",
   "metadata": {},
   "outputs": [
    {
     "name": "stdout",
     "output_type": "stream",
     "text": [
      "Trial 22 Complete [00h 00m 14s]\n",
      "val_accuracy: 0.8575000166893005\n",
      "\n",
      "Best val_accuracy So Far: 0.8921666741371155\n",
      "Total elapsed time: 00h 04m 07s\n",
      "\n",
      "Search: Running Trial #23\n",
      "\n",
      "Value             |Best Value So Far |Hyperparameter\n",
      "480               |416               |units\n",
      "0.01              |0.001             |learning_rate\n",
      "4                 |10                |tuner/epochs\n",
      "0                 |4                 |tuner/initial_epoch\n",
      "1                 |2                 |tuner/bracket\n",
      "0                 |2                 |tuner/round\n",
      "\n",
      "Epoch 1/4\n",
      "1500/1500 [==============================] - 5s 3ms/step - loss: 0.5714 - accuracy: 0.8059 - val_loss: 0.4382 - val_accuracy: 0.8454\n",
      "Epoch 2/4\n",
      "1500/1500 [==============================] - 5s 3ms/step - loss: 0.4470 - accuracy: 0.8404 - val_loss: 0.4468 - val_accuracy: 0.8474\n",
      "Epoch 3/4\n",
      "1500/1500 [==============================] - 4s 3ms/step - loss: 0.4111 - accuracy: 0.8539 - val_loss: 0.4500 - val_accuracy: 0.8482\n",
      "Epoch 4/4\n",
      "1490/1500 [============================>.] - ETA: 0s - loss: 0.3962 - accuracy: 0.8575"
     ]
    },
    {
     "ename": "KeyboardInterrupt",
     "evalue": "",
     "output_type": "error",
     "traceback": [
      "\u001b[1;31m---------------------------------------------------------------------------\u001b[0m",
      "\u001b[1;31mKeyboardInterrupt\u001b[0m                         Traceback (most recent call last)",
      "Cell \u001b[1;32mIn [12], line 1\u001b[0m\n\u001b[1;32m----> 1\u001b[0m \u001b[43mtuner\u001b[49m\u001b[38;5;241;43m.\u001b[39;49m\u001b[43msearch\u001b[49m\u001b[43m(\u001b[49m\u001b[43mimg_train\u001b[49m\u001b[43m,\u001b[49m\u001b[43m \u001b[49m\u001b[43mlabel_train\u001b[49m\u001b[43m,\u001b[49m\u001b[43m \u001b[49m\u001b[43mepochs\u001b[49m\u001b[38;5;241;43m=\u001b[39;49m\u001b[38;5;241;43m50\u001b[39;49m\u001b[43m,\u001b[49m\u001b[43m \u001b[49m\u001b[43mvalidation_split\u001b[49m\u001b[38;5;241;43m=\u001b[39;49m\u001b[38;5;241;43m0.2\u001b[39;49m\u001b[43m,\u001b[49m\u001b[43m \u001b[49m\u001b[43mcallbacks\u001b[49m\u001b[38;5;241;43m=\u001b[39;49m\u001b[43m[\u001b[49m\u001b[43mstop_early\u001b[49m\u001b[43m]\u001b[49m\u001b[43m)\u001b[49m\n\u001b[0;32m      3\u001b[0m \u001b[38;5;66;03m# Get the optimal hyperparameters\u001b[39;00m\n\u001b[0;32m      4\u001b[0m best_hps\u001b[38;5;241m=\u001b[39mtuner\u001b[38;5;241m.\u001b[39mget_best_hyperparameters(num_trials\u001b[38;5;241m=\u001b[39m\u001b[38;5;241m1\u001b[39m)[\u001b[38;5;241m0\u001b[39m]\n",
      "File \u001b[1;32m~\\miniconda3\\envs\\tensorflow\\lib\\site-packages\\keras_tuner\\engine\\base_tuner.py:210\u001b[0m, in \u001b[0;36mBaseTuner.search\u001b[1;34m(self, *fit_args, **fit_kwargs)\u001b[0m\n\u001b[0;32m    207\u001b[0m         \u001b[38;5;28;01mcontinue\u001b[39;00m\n\u001b[0;32m    209\u001b[0m     \u001b[38;5;28mself\u001b[39m\u001b[38;5;241m.\u001b[39mon_trial_begin(trial)\n\u001b[1;32m--> 210\u001b[0m     \u001b[38;5;28mself\u001b[39m\u001b[38;5;241m.\u001b[39m_try_run_and_update_trial(trial, \u001b[38;5;241m*\u001b[39mfit_args, \u001b[38;5;241m*\u001b[39m\u001b[38;5;241m*\u001b[39mfit_kwargs)\n\u001b[0;32m    211\u001b[0m     \u001b[38;5;28mself\u001b[39m\u001b[38;5;241m.\u001b[39mon_trial_end(trial)\n\u001b[0;32m    212\u001b[0m \u001b[38;5;28mself\u001b[39m\u001b[38;5;241m.\u001b[39mon_search_end()\n",
      "File \u001b[1;32m~\\miniconda3\\envs\\tensorflow\\lib\\site-packages\\keras_tuner\\engine\\base_tuner.py:250\u001b[0m, in \u001b[0;36mBaseTuner._try_run_and_update_trial\u001b[1;34m(self, trial, *fit_args, **fit_kwargs)\u001b[0m\n\u001b[0;32m    248\u001b[0m \u001b[38;5;28;01mdef\u001b[39;00m \u001b[38;5;21m_try_run_and_update_trial\u001b[39m(\u001b[38;5;28mself\u001b[39m, trial, \u001b[38;5;241m*\u001b[39mfit_args, \u001b[38;5;241m*\u001b[39m\u001b[38;5;241m*\u001b[39mfit_kwargs):\n\u001b[0;32m    249\u001b[0m     \u001b[38;5;28;01mtry\u001b[39;00m:\n\u001b[1;32m--> 250\u001b[0m         \u001b[38;5;28mself\u001b[39m\u001b[38;5;241m.\u001b[39m_run_and_update_trial(trial, \u001b[38;5;241m*\u001b[39mfit_args, \u001b[38;5;241m*\u001b[39m\u001b[38;5;241m*\u001b[39mfit_kwargs)\n\u001b[0;32m    251\u001b[0m         trial\u001b[38;5;241m.\u001b[39mstatus \u001b[38;5;241m=\u001b[39m trial_module\u001b[38;5;241m.\u001b[39mTrialStatus\u001b[38;5;241m.\u001b[39mCOMPLETED\n\u001b[0;32m    252\u001b[0m         \u001b[38;5;28;01mreturn\u001b[39;00m\n",
      "File \u001b[1;32m~\\miniconda3\\envs\\tensorflow\\lib\\site-packages\\keras_tuner\\engine\\base_tuner.py:215\u001b[0m, in \u001b[0;36mBaseTuner._run_and_update_trial\u001b[1;34m(self, trial, *fit_args, **fit_kwargs)\u001b[0m\n\u001b[0;32m    214\u001b[0m \u001b[38;5;28;01mdef\u001b[39;00m \u001b[38;5;21m_run_and_update_trial\u001b[39m(\u001b[38;5;28mself\u001b[39m, trial, \u001b[38;5;241m*\u001b[39mfit_args, \u001b[38;5;241m*\u001b[39m\u001b[38;5;241m*\u001b[39mfit_kwargs):\n\u001b[1;32m--> 215\u001b[0m     results \u001b[38;5;241m=\u001b[39m \u001b[38;5;28mself\u001b[39m\u001b[38;5;241m.\u001b[39mrun_trial(trial, \u001b[38;5;241m*\u001b[39mfit_args, \u001b[38;5;241m*\u001b[39m\u001b[38;5;241m*\u001b[39mfit_kwargs)\n\u001b[0;32m    216\u001b[0m     \u001b[38;5;28;01mif\u001b[39;00m \u001b[38;5;28mself\u001b[39m\u001b[38;5;241m.\u001b[39moracle\u001b[38;5;241m.\u001b[39mget_trial(trial\u001b[38;5;241m.\u001b[39mtrial_id)\u001b[38;5;241m.\u001b[39mmetrics\u001b[38;5;241m.\u001b[39mexists(\n\u001b[0;32m    217\u001b[0m         \u001b[38;5;28mself\u001b[39m\u001b[38;5;241m.\u001b[39moracle\u001b[38;5;241m.\u001b[39mobjective\u001b[38;5;241m.\u001b[39mname\n\u001b[0;32m    218\u001b[0m     ):\n\u001b[0;32m    219\u001b[0m         \u001b[38;5;66;03m# The oracle is updated by calling `self.oracle.update_trial()` in\u001b[39;00m\n\u001b[0;32m    220\u001b[0m         \u001b[38;5;66;03m# `Tuner.run_trial()`. For backward compatibility, we support this\u001b[39;00m\n\u001b[0;32m    221\u001b[0m         \u001b[38;5;66;03m# use case. No further action needed in this case.\u001b[39;00m\n\u001b[0;32m    222\u001b[0m         warnings\u001b[38;5;241m.\u001b[39mwarn(\n\u001b[0;32m    223\u001b[0m             \u001b[38;5;124m\"\u001b[39m\u001b[38;5;124mThe use case of calling \u001b[39m\u001b[38;5;124m\"\u001b[39m\n\u001b[0;32m    224\u001b[0m             \u001b[38;5;124m\"\u001b[39m\u001b[38;5;124m`self.oracle.update_trial(trial_id, metrics)` \u001b[39m\u001b[38;5;124m\"\u001b[39m\n\u001b[1;32m   (...)\u001b[0m\n\u001b[0;32m    230\u001b[0m             stacklevel\u001b[38;5;241m=\u001b[39m\u001b[38;5;241m2\u001b[39m,\n\u001b[0;32m    231\u001b[0m         )\n",
      "File \u001b[1;32m~\\miniconda3\\envs\\tensorflow\\lib\\site-packages\\keras_tuner\\tuners\\hyperband.py:401\u001b[0m, in \u001b[0;36mHyperband.run_trial\u001b[1;34m(self, trial, *fit_args, **fit_kwargs)\u001b[0m\n\u001b[0;32m    399\u001b[0m     fit_kwargs[\u001b[38;5;124m\"\u001b[39m\u001b[38;5;124mepochs\u001b[39m\u001b[38;5;124m\"\u001b[39m] \u001b[38;5;241m=\u001b[39m hp\u001b[38;5;241m.\u001b[39mvalues[\u001b[38;5;124m\"\u001b[39m\u001b[38;5;124mtuner/epochs\u001b[39m\u001b[38;5;124m\"\u001b[39m]\n\u001b[0;32m    400\u001b[0m     fit_kwargs[\u001b[38;5;124m\"\u001b[39m\u001b[38;5;124minitial_epoch\u001b[39m\u001b[38;5;124m\"\u001b[39m] \u001b[38;5;241m=\u001b[39m hp\u001b[38;5;241m.\u001b[39mvalues[\u001b[38;5;124m\"\u001b[39m\u001b[38;5;124mtuner/initial_epoch\u001b[39m\u001b[38;5;124m\"\u001b[39m]\n\u001b[1;32m--> 401\u001b[0m \u001b[38;5;28;01mreturn\u001b[39;00m \u001b[38;5;28msuper\u001b[39m()\u001b[38;5;241m.\u001b[39mrun_trial(trial, \u001b[38;5;241m*\u001b[39mfit_args, \u001b[38;5;241m*\u001b[39m\u001b[38;5;241m*\u001b[39mfit_kwargs)\n",
      "File \u001b[1;32m~\\miniconda3\\envs\\tensorflow\\lib\\site-packages\\keras_tuner\\engine\\tuner.py:284\u001b[0m, in \u001b[0;36mTuner.run_trial\u001b[1;34m(self, trial, *args, **kwargs)\u001b[0m\n\u001b[0;32m    282\u001b[0m     callbacks\u001b[38;5;241m.\u001b[39mappend(model_checkpoint)\n\u001b[0;32m    283\u001b[0m     copied_kwargs[\u001b[38;5;124m\"\u001b[39m\u001b[38;5;124mcallbacks\u001b[39m\u001b[38;5;124m\"\u001b[39m] \u001b[38;5;241m=\u001b[39m callbacks\n\u001b[1;32m--> 284\u001b[0m     obj_value \u001b[38;5;241m=\u001b[39m \u001b[38;5;28mself\u001b[39m\u001b[38;5;241m.\u001b[39m_build_and_fit_model(trial, \u001b[38;5;241m*\u001b[39margs, \u001b[38;5;241m*\u001b[39m\u001b[38;5;241m*\u001b[39mcopied_kwargs)\n\u001b[0;32m    286\u001b[0m     histories\u001b[38;5;241m.\u001b[39mappend(obj_value)\n\u001b[0;32m    287\u001b[0m \u001b[38;5;28;01mreturn\u001b[39;00m histories\n",
      "File \u001b[1;32m~\\miniconda3\\envs\\tensorflow\\lib\\site-packages\\keras_tuner\\engine\\tuner.py:211\u001b[0m, in \u001b[0;36mTuner._build_and_fit_model\u001b[1;34m(self, trial, *args, **kwargs)\u001b[0m\n\u001b[0;32m    209\u001b[0m hp \u001b[38;5;241m=\u001b[39m trial\u001b[38;5;241m.\u001b[39mhyperparameters\n\u001b[0;32m    210\u001b[0m model \u001b[38;5;241m=\u001b[39m \u001b[38;5;28mself\u001b[39m\u001b[38;5;241m.\u001b[39m_try_build(hp)\n\u001b[1;32m--> 211\u001b[0m results \u001b[38;5;241m=\u001b[39m \u001b[38;5;28mself\u001b[39m\u001b[38;5;241m.\u001b[39mhypermodel\u001b[38;5;241m.\u001b[39mfit(hp, model, \u001b[38;5;241m*\u001b[39margs, \u001b[38;5;241m*\u001b[39m\u001b[38;5;241m*\u001b[39mkwargs)\n\u001b[0;32m    212\u001b[0m tuner_utils\u001b[38;5;241m.\u001b[39mvalidate_trial_results(\n\u001b[0;32m    213\u001b[0m     results, \u001b[38;5;28mself\u001b[39m\u001b[38;5;241m.\u001b[39moracle\u001b[38;5;241m.\u001b[39mobjective, \u001b[38;5;124m\"\u001b[39m\u001b[38;5;124mHyperModel.fit()\u001b[39m\u001b[38;5;124m\"\u001b[39m\n\u001b[0;32m    214\u001b[0m )\n\u001b[0;32m    215\u001b[0m \u001b[38;5;28;01mreturn\u001b[39;00m results\n",
      "File \u001b[1;32m~\\miniconda3\\envs\\tensorflow\\lib\\site-packages\\keras_tuner\\engine\\hypermodel.py:142\u001b[0m, in \u001b[0;36mHyperModel.fit\u001b[1;34m(self, hp, model, *args, **kwargs)\u001b[0m\n\u001b[0;32m    118\u001b[0m \u001b[38;5;28;01mdef\u001b[39;00m \u001b[38;5;21mfit\u001b[39m(\u001b[38;5;28mself\u001b[39m, hp, model, \u001b[38;5;241m*\u001b[39margs, \u001b[38;5;241m*\u001b[39m\u001b[38;5;241m*\u001b[39mkwargs):\n\u001b[0;32m    119\u001b[0m     \u001b[38;5;124;03m\"\"\"Train the model.\u001b[39;00m\n\u001b[0;32m    120\u001b[0m \n\u001b[0;32m    121\u001b[0m \u001b[38;5;124;03m    Args:\u001b[39;00m\n\u001b[1;32m   (...)\u001b[0m\n\u001b[0;32m    140\u001b[0m \u001b[38;5;124;03m        If return a float, it should be the `objective` value.\u001b[39;00m\n\u001b[0;32m    141\u001b[0m \u001b[38;5;124;03m    \"\"\"\u001b[39;00m\n\u001b[1;32m--> 142\u001b[0m     \u001b[38;5;28;01mreturn\u001b[39;00m model\u001b[38;5;241m.\u001b[39mfit(\u001b[38;5;241m*\u001b[39margs, \u001b[38;5;241m*\u001b[39m\u001b[38;5;241m*\u001b[39mkwargs)\n",
      "File \u001b[1;32m~\\miniconda3\\envs\\tensorflow\\lib\\site-packages\\keras\\utils\\traceback_utils.py:65\u001b[0m, in \u001b[0;36mfilter_traceback.<locals>.error_handler\u001b[1;34m(*args, **kwargs)\u001b[0m\n\u001b[0;32m     63\u001b[0m filtered_tb \u001b[38;5;241m=\u001b[39m \u001b[38;5;28;01mNone\u001b[39;00m\n\u001b[0;32m     64\u001b[0m \u001b[38;5;28;01mtry\u001b[39;00m:\n\u001b[1;32m---> 65\u001b[0m     \u001b[38;5;28;01mreturn\u001b[39;00m fn(\u001b[38;5;241m*\u001b[39margs, \u001b[38;5;241m*\u001b[39m\u001b[38;5;241m*\u001b[39mkwargs)\n\u001b[0;32m     66\u001b[0m \u001b[38;5;28;01mexcept\u001b[39;00m \u001b[38;5;167;01mException\u001b[39;00m \u001b[38;5;28;01mas\u001b[39;00m e:\n\u001b[0;32m     67\u001b[0m     filtered_tb \u001b[38;5;241m=\u001b[39m _process_traceback_frames(e\u001b[38;5;241m.\u001b[39m__traceback__)\n",
      "File \u001b[1;32m~\\miniconda3\\envs\\tensorflow\\lib\\site-packages\\keras\\engine\\training.py:1606\u001b[0m, in \u001b[0;36mModel.fit\u001b[1;34m(self, x, y, batch_size, epochs, verbose, callbacks, validation_split, validation_data, shuffle, class_weight, sample_weight, initial_epoch, steps_per_epoch, validation_steps, validation_batch_size, validation_freq, max_queue_size, workers, use_multiprocessing)\u001b[0m\n\u001b[0;32m   1591\u001b[0m \u001b[38;5;28;01mif\u001b[39;00m \u001b[38;5;28mgetattr\u001b[39m(\u001b[38;5;28mself\u001b[39m, \u001b[38;5;124m\"\u001b[39m\u001b[38;5;124m_eval_data_handler\u001b[39m\u001b[38;5;124m\"\u001b[39m, \u001b[38;5;28;01mNone\u001b[39;00m) \u001b[38;5;129;01mis\u001b[39;00m \u001b[38;5;28;01mNone\u001b[39;00m:\n\u001b[0;32m   1592\u001b[0m     \u001b[38;5;28mself\u001b[39m\u001b[38;5;241m.\u001b[39m_eval_data_handler \u001b[38;5;241m=\u001b[39m data_adapter\u001b[38;5;241m.\u001b[39mget_data_handler(\n\u001b[0;32m   1593\u001b[0m         x\u001b[38;5;241m=\u001b[39mval_x,\n\u001b[0;32m   1594\u001b[0m         y\u001b[38;5;241m=\u001b[39mval_y,\n\u001b[1;32m   (...)\u001b[0m\n\u001b[0;32m   1604\u001b[0m         steps_per_execution\u001b[38;5;241m=\u001b[39m\u001b[38;5;28mself\u001b[39m\u001b[38;5;241m.\u001b[39m_steps_per_execution,\n\u001b[0;32m   1605\u001b[0m     )\n\u001b[1;32m-> 1606\u001b[0m val_logs \u001b[38;5;241m=\u001b[39m \u001b[38;5;28;43mself\u001b[39;49m\u001b[38;5;241;43m.\u001b[39;49m\u001b[43mevaluate\u001b[49m\u001b[43m(\u001b[49m\n\u001b[0;32m   1607\u001b[0m \u001b[43m    \u001b[49m\u001b[43mx\u001b[49m\u001b[38;5;241;43m=\u001b[39;49m\u001b[43mval_x\u001b[49m\u001b[43m,\u001b[49m\n\u001b[0;32m   1608\u001b[0m \u001b[43m    \u001b[49m\u001b[43my\u001b[49m\u001b[38;5;241;43m=\u001b[39;49m\u001b[43mval_y\u001b[49m\u001b[43m,\u001b[49m\n\u001b[0;32m   1609\u001b[0m \u001b[43m    \u001b[49m\u001b[43msample_weight\u001b[49m\u001b[38;5;241;43m=\u001b[39;49m\u001b[43mval_sample_weight\u001b[49m\u001b[43m,\u001b[49m\n\u001b[0;32m   1610\u001b[0m \u001b[43m    \u001b[49m\u001b[43mbatch_size\u001b[49m\u001b[38;5;241;43m=\u001b[39;49m\u001b[43mvalidation_batch_size\u001b[49m\u001b[43m \u001b[49m\u001b[38;5;129;43;01mor\u001b[39;49;00m\u001b[43m \u001b[49m\u001b[43mbatch_size\u001b[49m\u001b[43m,\u001b[49m\n\u001b[0;32m   1611\u001b[0m \u001b[43m    \u001b[49m\u001b[43msteps\u001b[49m\u001b[38;5;241;43m=\u001b[39;49m\u001b[43mvalidation_steps\u001b[49m\u001b[43m,\u001b[49m\n\u001b[0;32m   1612\u001b[0m \u001b[43m    \u001b[49m\u001b[43mcallbacks\u001b[49m\u001b[38;5;241;43m=\u001b[39;49m\u001b[43mcallbacks\u001b[49m\u001b[43m,\u001b[49m\n\u001b[0;32m   1613\u001b[0m \u001b[43m    \u001b[49m\u001b[43mmax_queue_size\u001b[49m\u001b[38;5;241;43m=\u001b[39;49m\u001b[43mmax_queue_size\u001b[49m\u001b[43m,\u001b[49m\n\u001b[0;32m   1614\u001b[0m \u001b[43m    \u001b[49m\u001b[43mworkers\u001b[49m\u001b[38;5;241;43m=\u001b[39;49m\u001b[43mworkers\u001b[49m\u001b[43m,\u001b[49m\n\u001b[0;32m   1615\u001b[0m \u001b[43m    \u001b[49m\u001b[43muse_multiprocessing\u001b[49m\u001b[38;5;241;43m=\u001b[39;49m\u001b[43muse_multiprocessing\u001b[49m\u001b[43m,\u001b[49m\n\u001b[0;32m   1616\u001b[0m \u001b[43m    \u001b[49m\u001b[43mreturn_dict\u001b[49m\u001b[38;5;241;43m=\u001b[39;49m\u001b[38;5;28;43;01mTrue\u001b[39;49;00m\u001b[43m,\u001b[49m\n\u001b[0;32m   1617\u001b[0m \u001b[43m    \u001b[49m\u001b[43m_use_cached_eval_dataset\u001b[49m\u001b[38;5;241;43m=\u001b[39;49m\u001b[38;5;28;43;01mTrue\u001b[39;49;00m\u001b[43m,\u001b[49m\n\u001b[0;32m   1618\u001b[0m \u001b[43m\u001b[49m\u001b[43m)\u001b[49m\n\u001b[0;32m   1619\u001b[0m val_logs \u001b[38;5;241m=\u001b[39m {\n\u001b[0;32m   1620\u001b[0m     \u001b[38;5;124m\"\u001b[39m\u001b[38;5;124mval_\u001b[39m\u001b[38;5;124m\"\u001b[39m \u001b[38;5;241m+\u001b[39m name: val \u001b[38;5;28;01mfor\u001b[39;00m name, val \u001b[38;5;129;01min\u001b[39;00m val_logs\u001b[38;5;241m.\u001b[39mitems()\n\u001b[0;32m   1621\u001b[0m }\n\u001b[0;32m   1622\u001b[0m epoch_logs\u001b[38;5;241m.\u001b[39mupdate(val_logs)\n",
      "File \u001b[1;32m~\\miniconda3\\envs\\tensorflow\\lib\\site-packages\\keras\\utils\\traceback_utils.py:65\u001b[0m, in \u001b[0;36mfilter_traceback.<locals>.error_handler\u001b[1;34m(*args, **kwargs)\u001b[0m\n\u001b[0;32m     63\u001b[0m filtered_tb \u001b[38;5;241m=\u001b[39m \u001b[38;5;28;01mNone\u001b[39;00m\n\u001b[0;32m     64\u001b[0m \u001b[38;5;28;01mtry\u001b[39;00m:\n\u001b[1;32m---> 65\u001b[0m     \u001b[38;5;28;01mreturn\u001b[39;00m fn(\u001b[38;5;241m*\u001b[39margs, \u001b[38;5;241m*\u001b[39m\u001b[38;5;241m*\u001b[39mkwargs)\n\u001b[0;32m     66\u001b[0m \u001b[38;5;28;01mexcept\u001b[39;00m \u001b[38;5;167;01mException\u001b[39;00m \u001b[38;5;28;01mas\u001b[39;00m e:\n\u001b[0;32m     67\u001b[0m     filtered_tb \u001b[38;5;241m=\u001b[39m _process_traceback_frames(e\u001b[38;5;241m.\u001b[39m__traceback__)\n",
      "File \u001b[1;32m~\\miniconda3\\envs\\tensorflow\\lib\\site-packages\\keras\\engine\\training.py:1947\u001b[0m, in \u001b[0;36mModel.evaluate\u001b[1;34m(self, x, y, batch_size, verbose, sample_weight, steps, callbacks, max_queue_size, workers, use_multiprocessing, return_dict, **kwargs)\u001b[0m\n\u001b[0;32m   1943\u001b[0m \u001b[38;5;28;01mwith\u001b[39;00m tf\u001b[38;5;241m.\u001b[39mprofiler\u001b[38;5;241m.\u001b[39mexperimental\u001b[38;5;241m.\u001b[39mTrace(\n\u001b[0;32m   1944\u001b[0m     \u001b[38;5;124m\"\u001b[39m\u001b[38;5;124mtest\u001b[39m\u001b[38;5;124m\"\u001b[39m, step_num\u001b[38;5;241m=\u001b[39mstep, _r\u001b[38;5;241m=\u001b[39m\u001b[38;5;241m1\u001b[39m\n\u001b[0;32m   1945\u001b[0m ):\n\u001b[0;32m   1946\u001b[0m     callbacks\u001b[38;5;241m.\u001b[39mon_test_batch_begin(step)\n\u001b[1;32m-> 1947\u001b[0m     tmp_logs \u001b[38;5;241m=\u001b[39m \u001b[38;5;28;43mself\u001b[39;49m\u001b[38;5;241;43m.\u001b[39;49m\u001b[43mtest_function\u001b[49m\u001b[43m(\u001b[49m\u001b[43miterator\u001b[49m\u001b[43m)\u001b[49m\n\u001b[0;32m   1948\u001b[0m     \u001b[38;5;28;01mif\u001b[39;00m data_handler\u001b[38;5;241m.\u001b[39mshould_sync:\n\u001b[0;32m   1949\u001b[0m         context\u001b[38;5;241m.\u001b[39masync_wait()\n",
      "File \u001b[1;32m~\\miniconda3\\envs\\tensorflow\\lib\\site-packages\\tensorflow\\python\\util\\traceback_utils.py:150\u001b[0m, in \u001b[0;36mfilter_traceback.<locals>.error_handler\u001b[1;34m(*args, **kwargs)\u001b[0m\n\u001b[0;32m    148\u001b[0m filtered_tb \u001b[38;5;241m=\u001b[39m \u001b[38;5;28;01mNone\u001b[39;00m\n\u001b[0;32m    149\u001b[0m \u001b[38;5;28;01mtry\u001b[39;00m:\n\u001b[1;32m--> 150\u001b[0m   \u001b[38;5;28;01mreturn\u001b[39;00m fn(\u001b[38;5;241m*\u001b[39margs, \u001b[38;5;241m*\u001b[39m\u001b[38;5;241m*\u001b[39mkwargs)\n\u001b[0;32m    151\u001b[0m \u001b[38;5;28;01mexcept\u001b[39;00m \u001b[38;5;167;01mException\u001b[39;00m \u001b[38;5;28;01mas\u001b[39;00m e:\n\u001b[0;32m    152\u001b[0m   filtered_tb \u001b[38;5;241m=\u001b[39m _process_traceback_frames(e\u001b[38;5;241m.\u001b[39m__traceback__)\n",
      "File \u001b[1;32m~\\miniconda3\\envs\\tensorflow\\lib\\site-packages\\tensorflow\\python\\eager\\def_function.py:915\u001b[0m, in \u001b[0;36mFunction.__call__\u001b[1;34m(self, *args, **kwds)\u001b[0m\n\u001b[0;32m    912\u001b[0m compiler \u001b[38;5;241m=\u001b[39m \u001b[38;5;124m\"\u001b[39m\u001b[38;5;124mxla\u001b[39m\u001b[38;5;124m\"\u001b[39m \u001b[38;5;28;01mif\u001b[39;00m \u001b[38;5;28mself\u001b[39m\u001b[38;5;241m.\u001b[39m_jit_compile \u001b[38;5;28;01melse\u001b[39;00m \u001b[38;5;124m\"\u001b[39m\u001b[38;5;124mnonXla\u001b[39m\u001b[38;5;124m\"\u001b[39m\n\u001b[0;32m    914\u001b[0m \u001b[38;5;28;01mwith\u001b[39;00m OptionalXlaContext(\u001b[38;5;28mself\u001b[39m\u001b[38;5;241m.\u001b[39m_jit_compile):\n\u001b[1;32m--> 915\u001b[0m   result \u001b[38;5;241m=\u001b[39m \u001b[38;5;28mself\u001b[39m\u001b[38;5;241m.\u001b[39m_call(\u001b[38;5;241m*\u001b[39margs, \u001b[38;5;241m*\u001b[39m\u001b[38;5;241m*\u001b[39mkwds)\n\u001b[0;32m    917\u001b[0m new_tracing_count \u001b[38;5;241m=\u001b[39m \u001b[38;5;28mself\u001b[39m\u001b[38;5;241m.\u001b[39mexperimental_get_tracing_count()\n\u001b[0;32m    918\u001b[0m without_tracing \u001b[38;5;241m=\u001b[39m (tracing_count \u001b[38;5;241m==\u001b[39m new_tracing_count)\n",
      "File \u001b[1;32m~\\miniconda3\\envs\\tensorflow\\lib\\site-packages\\tensorflow\\python\\eager\\def_function.py:954\u001b[0m, in \u001b[0;36mFunction._call\u001b[1;34m(self, *args, **kwds)\u001b[0m\n\u001b[0;32m    951\u001b[0m \u001b[38;5;28mself\u001b[39m\u001b[38;5;241m.\u001b[39m_lock\u001b[38;5;241m.\u001b[39mrelease()\n\u001b[0;32m    952\u001b[0m \u001b[38;5;66;03m# In this case we have not created variables on the first call. So we can\u001b[39;00m\n\u001b[0;32m    953\u001b[0m \u001b[38;5;66;03m# run the first trace but we should fail if variables are created.\u001b[39;00m\n\u001b[1;32m--> 954\u001b[0m results \u001b[38;5;241m=\u001b[39m \u001b[38;5;28mself\u001b[39m\u001b[38;5;241m.\u001b[39m_stateful_fn(\u001b[38;5;241m*\u001b[39margs, \u001b[38;5;241m*\u001b[39m\u001b[38;5;241m*\u001b[39mkwds)\n\u001b[0;32m    955\u001b[0m \u001b[38;5;28;01mif\u001b[39;00m \u001b[38;5;28mself\u001b[39m\u001b[38;5;241m.\u001b[39m_created_variables \u001b[38;5;129;01mand\u001b[39;00m \u001b[38;5;129;01mnot\u001b[39;00m ALLOW_DYNAMIC_VARIABLE_CREATION:\n\u001b[0;32m    956\u001b[0m   \u001b[38;5;28;01mraise\u001b[39;00m \u001b[38;5;167;01mValueError\u001b[39;00m(\u001b[38;5;124m\"\u001b[39m\u001b[38;5;124mCreating variables on a non-first call to a function\u001b[39m\u001b[38;5;124m\"\u001b[39m\n\u001b[0;32m    957\u001b[0m                    \u001b[38;5;124m\"\u001b[39m\u001b[38;5;124m decorated with tf.function.\u001b[39m\u001b[38;5;124m\"\u001b[39m)\n",
      "File \u001b[1;32m~\\miniconda3\\envs\\tensorflow\\lib\\site-packages\\tensorflow\\python\\eager\\function.py:2496\u001b[0m, in \u001b[0;36mFunction.__call__\u001b[1;34m(self, *args, **kwargs)\u001b[0m\n\u001b[0;32m   2493\u001b[0m \u001b[38;5;28;01mwith\u001b[39;00m \u001b[38;5;28mself\u001b[39m\u001b[38;5;241m.\u001b[39m_lock:\n\u001b[0;32m   2494\u001b[0m   (graph_function,\n\u001b[0;32m   2495\u001b[0m    filtered_flat_args) \u001b[38;5;241m=\u001b[39m \u001b[38;5;28mself\u001b[39m\u001b[38;5;241m.\u001b[39m_maybe_define_function(args, kwargs)\n\u001b[1;32m-> 2496\u001b[0m \u001b[38;5;28;01mreturn\u001b[39;00m \u001b[43mgraph_function\u001b[49m\u001b[38;5;241;43m.\u001b[39;49m\u001b[43m_call_flat\u001b[49m\u001b[43m(\u001b[49m\n\u001b[0;32m   2497\u001b[0m \u001b[43m    \u001b[49m\u001b[43mfiltered_flat_args\u001b[49m\u001b[43m,\u001b[49m\u001b[43m \u001b[49m\u001b[43mcaptured_inputs\u001b[49m\u001b[38;5;241;43m=\u001b[39;49m\u001b[43mgraph_function\u001b[49m\u001b[38;5;241;43m.\u001b[39;49m\u001b[43mcaptured_inputs\u001b[49m\u001b[43m)\u001b[49m\n",
      "File \u001b[1;32m~\\miniconda3\\envs\\tensorflow\\lib\\site-packages\\tensorflow\\python\\eager\\function.py:1862\u001b[0m, in \u001b[0;36mConcreteFunction._call_flat\u001b[1;34m(self, args, captured_inputs, cancellation_manager)\u001b[0m\n\u001b[0;32m   1858\u001b[0m possible_gradient_type \u001b[38;5;241m=\u001b[39m gradients_util\u001b[38;5;241m.\u001b[39mPossibleTapeGradientTypes(args)\n\u001b[0;32m   1859\u001b[0m \u001b[38;5;28;01mif\u001b[39;00m (possible_gradient_type \u001b[38;5;241m==\u001b[39m gradients_util\u001b[38;5;241m.\u001b[39mPOSSIBLE_GRADIENT_TYPES_NONE\n\u001b[0;32m   1860\u001b[0m     \u001b[38;5;129;01mand\u001b[39;00m executing_eagerly):\n\u001b[0;32m   1861\u001b[0m   \u001b[38;5;66;03m# No tape is watching; skip to running the function.\u001b[39;00m\n\u001b[1;32m-> 1862\u001b[0m   \u001b[38;5;28;01mreturn\u001b[39;00m \u001b[38;5;28mself\u001b[39m\u001b[38;5;241m.\u001b[39m_build_call_outputs(\u001b[38;5;28;43mself\u001b[39;49m\u001b[38;5;241;43m.\u001b[39;49m\u001b[43m_inference_function\u001b[49m\u001b[38;5;241;43m.\u001b[39;49m\u001b[43mcall\u001b[49m\u001b[43m(\u001b[49m\n\u001b[0;32m   1863\u001b[0m \u001b[43m      \u001b[49m\u001b[43mctx\u001b[49m\u001b[43m,\u001b[49m\u001b[43m \u001b[49m\u001b[43margs\u001b[49m\u001b[43m,\u001b[49m\u001b[43m \u001b[49m\u001b[43mcancellation_manager\u001b[49m\u001b[38;5;241;43m=\u001b[39;49m\u001b[43mcancellation_manager\u001b[49m\u001b[43m)\u001b[49m)\n\u001b[0;32m   1864\u001b[0m forward_backward \u001b[38;5;241m=\u001b[39m \u001b[38;5;28mself\u001b[39m\u001b[38;5;241m.\u001b[39m_select_forward_and_backward_functions(\n\u001b[0;32m   1865\u001b[0m     args,\n\u001b[0;32m   1866\u001b[0m     possible_gradient_type,\n\u001b[0;32m   1867\u001b[0m     executing_eagerly)\n\u001b[0;32m   1868\u001b[0m forward_function, args_with_tangents \u001b[38;5;241m=\u001b[39m forward_backward\u001b[38;5;241m.\u001b[39mforward()\n",
      "File \u001b[1;32m~\\miniconda3\\envs\\tensorflow\\lib\\site-packages\\tensorflow\\python\\eager\\function.py:499\u001b[0m, in \u001b[0;36m_EagerDefinedFunction.call\u001b[1;34m(self, ctx, args, cancellation_manager)\u001b[0m\n\u001b[0;32m    497\u001b[0m \u001b[38;5;28;01mwith\u001b[39;00m _InterpolateFunctionError(\u001b[38;5;28mself\u001b[39m):\n\u001b[0;32m    498\u001b[0m   \u001b[38;5;28;01mif\u001b[39;00m cancellation_manager \u001b[38;5;129;01mis\u001b[39;00m \u001b[38;5;28;01mNone\u001b[39;00m:\n\u001b[1;32m--> 499\u001b[0m     outputs \u001b[38;5;241m=\u001b[39m \u001b[43mexecute\u001b[49m\u001b[38;5;241;43m.\u001b[39;49m\u001b[43mexecute\u001b[49m\u001b[43m(\u001b[49m\n\u001b[0;32m    500\u001b[0m \u001b[43m        \u001b[49m\u001b[38;5;28;43mstr\u001b[39;49m\u001b[43m(\u001b[49m\u001b[38;5;28;43mself\u001b[39;49m\u001b[38;5;241;43m.\u001b[39;49m\u001b[43msignature\u001b[49m\u001b[38;5;241;43m.\u001b[39;49m\u001b[43mname\u001b[49m\u001b[43m)\u001b[49m\u001b[43m,\u001b[49m\n\u001b[0;32m    501\u001b[0m \u001b[43m        \u001b[49m\u001b[43mnum_outputs\u001b[49m\u001b[38;5;241;43m=\u001b[39;49m\u001b[38;5;28;43mself\u001b[39;49m\u001b[38;5;241;43m.\u001b[39;49m\u001b[43m_num_outputs\u001b[49m\u001b[43m,\u001b[49m\n\u001b[0;32m    502\u001b[0m \u001b[43m        \u001b[49m\u001b[43minputs\u001b[49m\u001b[38;5;241;43m=\u001b[39;49m\u001b[43margs\u001b[49m\u001b[43m,\u001b[49m\n\u001b[0;32m    503\u001b[0m \u001b[43m        \u001b[49m\u001b[43mattrs\u001b[49m\u001b[38;5;241;43m=\u001b[39;49m\u001b[43mattrs\u001b[49m\u001b[43m,\u001b[49m\n\u001b[0;32m    504\u001b[0m \u001b[43m        \u001b[49m\u001b[43mctx\u001b[49m\u001b[38;5;241;43m=\u001b[39;49m\u001b[43mctx\u001b[49m\u001b[43m)\u001b[49m\n\u001b[0;32m    505\u001b[0m   \u001b[38;5;28;01melse\u001b[39;00m:\n\u001b[0;32m    506\u001b[0m     outputs \u001b[38;5;241m=\u001b[39m execute\u001b[38;5;241m.\u001b[39mexecute_with_cancellation(\n\u001b[0;32m    507\u001b[0m         \u001b[38;5;28mstr\u001b[39m(\u001b[38;5;28mself\u001b[39m\u001b[38;5;241m.\u001b[39msignature\u001b[38;5;241m.\u001b[39mname),\n\u001b[0;32m    508\u001b[0m         num_outputs\u001b[38;5;241m=\u001b[39m\u001b[38;5;28mself\u001b[39m\u001b[38;5;241m.\u001b[39m_num_outputs,\n\u001b[1;32m   (...)\u001b[0m\n\u001b[0;32m    511\u001b[0m         ctx\u001b[38;5;241m=\u001b[39mctx,\n\u001b[0;32m    512\u001b[0m         cancellation_manager\u001b[38;5;241m=\u001b[39mcancellation_manager)\n",
      "File \u001b[1;32m~\\miniconda3\\envs\\tensorflow\\lib\\site-packages\\tensorflow\\python\\eager\\execute.py:54\u001b[0m, in \u001b[0;36mquick_execute\u001b[1;34m(op_name, num_outputs, inputs, attrs, ctx, name)\u001b[0m\n\u001b[0;32m     52\u001b[0m \u001b[38;5;28;01mtry\u001b[39;00m:\n\u001b[0;32m     53\u001b[0m   ctx\u001b[38;5;241m.\u001b[39mensure_initialized()\n\u001b[1;32m---> 54\u001b[0m   tensors \u001b[38;5;241m=\u001b[39m \u001b[43mpywrap_tfe\u001b[49m\u001b[38;5;241;43m.\u001b[39;49m\u001b[43mTFE_Py_Execute\u001b[49m\u001b[43m(\u001b[49m\u001b[43mctx\u001b[49m\u001b[38;5;241;43m.\u001b[39;49m\u001b[43m_handle\u001b[49m\u001b[43m,\u001b[49m\u001b[43m \u001b[49m\u001b[43mdevice_name\u001b[49m\u001b[43m,\u001b[49m\u001b[43m \u001b[49m\u001b[43mop_name\u001b[49m\u001b[43m,\u001b[49m\n\u001b[0;32m     55\u001b[0m \u001b[43m                                      \u001b[49m\u001b[43minputs\u001b[49m\u001b[43m,\u001b[49m\u001b[43m \u001b[49m\u001b[43mattrs\u001b[49m\u001b[43m,\u001b[49m\u001b[43m \u001b[49m\u001b[43mnum_outputs\u001b[49m\u001b[43m)\u001b[49m\n\u001b[0;32m     56\u001b[0m \u001b[38;5;28;01mexcept\u001b[39;00m core\u001b[38;5;241m.\u001b[39m_NotOkStatusException \u001b[38;5;28;01mas\u001b[39;00m e:\n\u001b[0;32m     57\u001b[0m   \u001b[38;5;28;01mif\u001b[39;00m name \u001b[38;5;129;01mis\u001b[39;00m \u001b[38;5;129;01mnot\u001b[39;00m \u001b[38;5;28;01mNone\u001b[39;00m:\n",
      "\u001b[1;31mKeyboardInterrupt\u001b[0m: "
     ]
    },
    {
     "data": {
      "application/javascript": [
       "\n",
       "            setTimeout(function() {\n",
       "                var nbb_cell_id = 12;\n",
       "                var nbb_unformatted_code = \"tuner.search(img_train, label_train, epochs=50, validation_split=0.2, callbacks=[stop_early])\\n\\n# Get the optimal hyperparameters\\nbest_hps=tuner.get_best_hyperparameters(num_trials=1)[0]\\n\\nprint(f\\\"\\\"\\\"\\nThe hyperparameter search is complete. The optimal number of units in the first densely-connected\\nlayer is {best_hps.get('units')} and the optimal learning rate for the optimizer\\nis {best_hps.get('learning_rate')}.\\n\\\"\\\"\\\")\";\n",
       "                var nbb_formatted_code = \"tuner.search(\\n    img_train, label_train, epochs=50, validation_split=0.2, callbacks=[stop_early]\\n)\\n\\n# Get the optimal hyperparameters\\nbest_hps = tuner.get_best_hyperparameters(num_trials=1)[0]\\n\\nprint(\\n    f\\\"\\\"\\\"\\nThe hyperparameter search is complete. The optimal number of units in the first densely-connected\\nlayer is {best_hps.get('units')} and the optimal learning rate for the optimizer\\nis {best_hps.get('learning_rate')}.\\n\\\"\\\"\\\"\\n)\";\n",
       "                var nbb_cells = Jupyter.notebook.get_cells();\n",
       "                for (var i = 0; i < nbb_cells.length; ++i) {\n",
       "                    if (nbb_cells[i].input_prompt_number == nbb_cell_id) {\n",
       "                        if (nbb_cells[i].get_text() == nbb_unformatted_code) {\n",
       "                             nbb_cells[i].set_text(nbb_formatted_code);\n",
       "                        }\n",
       "                        break;\n",
       "                    }\n",
       "                }\n",
       "            }, 500);\n",
       "            "
      ],
      "text/plain": [
       "<IPython.core.display.Javascript object>"
      ]
     },
     "metadata": {},
     "output_type": "display_data"
    }
   ],
   "source": [
    "tuner.search(\n",
    "    img_train, label_train, epochs=50, validation_split=0.2, callbacks=[stop_early]\n",
    ")\n",
    "\n",
    "# Get the optimal hyperparameters\n",
    "best_hps = tuner.get_best_hyperparameters(num_trials=1)[0]\n",
    "\n",
    "print(\n",
    "    f\"\"\"\n",
    "The hyperparameter search is complete. The optimal number of units in the first densely-connected\n",
    "layer is {best_hps.get('units')} and the optimal learning rate for the optimizer\n",
    "is {best_hps.get('learning_rate')}.\n",
    "\"\"\"\n",
    ")"
   ]
  },
  {
   "cell_type": "code",
   "execution_count": null,
   "id": "88164d16",
   "metadata": {},
   "outputs": [],
   "source": []
  }
 ],
 "metadata": {
  "kernelspec": {
   "display_name": "Python 3 (ipykernel)",
   "language": "python",
   "name": "python3"
  },
  "language_info": {
   "codemirror_mode": {
    "name": "ipython",
    "version": 3
   },
   "file_extension": ".py",
   "mimetype": "text/x-python",
   "name": "python",
   "nbconvert_exporter": "python",
   "pygments_lexer": "ipython3",
   "version": "3.9.15"
  }
 },
 "nbformat": 4,
 "nbformat_minor": 5
}
